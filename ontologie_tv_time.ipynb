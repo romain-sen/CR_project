{
 "cells": [
  {
   "cell_type": "code",
   "execution_count": 1,
   "metadata": {},
   "outputs": [
    {
     "name": "stderr",
     "output_type": "stream",
     "text": [
      "* Owlready2 * Warning: optimized Cython parser module 'owlready2_optimized' is not available, defaulting to slower Python implementation\n"
     ]
    }
   ],
   "source": [
    "from owlready2 import Thing, get_ontology, AllDisjoint, sync_reasoner_pellet, Imp, FunctionalProperty\n",
    "from owlready2 import *\n",
    "\n",
    "# Create a new ontology\n",
    "onto = get_ontology(\"http://example.org/onto#\")\n",
    "\n",
    "# Define classes for the ontology based on the CSV file contents\n",
    "with onto:\n",
    "    class TVShow(Thing): pass\n",
    "    class Episode(Thing): pass\n",
    "    class User(Thing): pass\n",
    "    class Comment(Thing): pass\n",
    "    class Rating(Thing): pass\n",
    "    class Emotion(Thing): pass\n",
    "\n",
    "    # Define properties\n",
    "\n",
    "    # Define relationships\n",
    "    class posts(Comment >> User): pass\n",
    "\n",
    "    class comments_on(Comment >> Episode): pass\n",
    "    class follows(User >> TVShow): pass\n",
    "    class has_started(User >> TVShow): pass\n",
    "    class had_stopped(User >> TVShow): pass\n",
    "    class has_watched(User >> Episode): pass\n",
    "\n",
    "    class rated_by(Rating >> User): pass\n",
    "    class rates(Rating >> Episode): pass\n",
    "\n",
    "    class expressed_by(Emotion >> User): pass\n",
    "    class evokes(Emotion >> Episode):  pass\n",
    "\n"
   ]
  },
  {
   "cell_type": "code",
   "execution_count": 2,
   "metadata": {},
   "outputs": [],
   "source": [
    "import csv\n",
    "\n",
    "def load_data(filename, process_row):\n",
    "    with open(filename, 'rt', encoding='utf-8') as file:\n",
    "        reader = csv.DictReader(file, delimiter=',')\n",
    "        count = 0\n",
    "        for row in reader:\n",
    "            if count > 0 and count%100000 == 0:\n",
    "                print(f'Processed {count} rows')\n",
    "            process_row(row)\n",
    "            count += 1"
   ]
  },
  {
   "cell_type": "code",
   "execution_count": 3,
   "metadata": {},
   "outputs": [
    {
     "name": "stdout",
     "output_type": "stream",
     "text": [
      "Loaded 106 TV shows and 5227 episodes seen and 1 users\n"
     ]
    }
   ],
   "source": [
    "import datetime\n",
    "\n",
    "def process_tv_shows_episodes(row):\n",
    "    tv_show = onto.TVShow(name=row['tv_show_name'])\n",
    "    tv_show.titre = row['tv_show_name']\n",
    "\n",
    "    episode = onto.Episode(name=row['episode_id'])\n",
    "    episode.aPourSaison = int(row['episode_season_number'])\n",
    "    episode.aPourNumero = int(row['episode_number'])\n",
    "    episode.rewatchedCount = int(row['rewatched_count'])\n",
    "\n",
    "    episode.aPourDate = datetime.datetime.strptime(row['created_at'], '%Y-%m-%d %H:%M:%S').date()\n",
    "\n",
    "    user = onto.User(name=row['user_id'])\n",
    "    user.has_started.append(tv_show) # user has started watching the tv show because they have seen at least one episode\n",
    "    user.has_watched.append(episode) # user has watched the episode\n",
    "\n",
    "path = './data/seen_episode_modified.csv'\n",
    "load_data(path, process_tv_shows_episodes)\n",
    "print(f'Loaded {len(onto.TVShow.instances())} TV shows and {len(onto.Episode.instances())} episodes seen and {len(onto.User.instances())} users')"
   ]
  },
  {
   "cell_type": "code",
   "execution_count": 4,
   "metadata": {},
   "outputs": [
    {
     "name": "stdout",
     "output_type": "stream",
     "text": [
      "Loaded 339 ratings\n"
     ]
    }
   ],
   "source": [
    "def process_episodes_ratings(row):\n",
    "    episode = onto.Episode(name=row['episode_id'])\n",
    "    user = onto.User(name=row['user_id'])\n",
    "    rating = onto.Rating(name=row['vote_key'])\n",
    "    rating.note = int(row['note'])\n",
    "    rating.rated_by.append(user)\n",
    "    rating.rates.append(episode)\n",
    "    rating.aPourDate = datetime.datetime.strptime(row['created_at'], '%Y-%m-%d %H:%M:%S').date()\n",
    "\n",
    "path = './data/ratings_episode_votes_modified.csv'\n",
    "load_data(path, process_episodes_ratings)\n",
    "print(f'Loaded {len(onto.Rating.instances())} ratings')"
   ]
  },
  {
   "cell_type": "code",
   "execution_count": 5,
   "metadata": {},
   "outputs": [
    {
     "name": "stdout",
     "output_type": "stream",
     "text": [
      "Loaded 1 users and 119 TV shows\n"
     ]
    }
   ],
   "source": [
    "def process_tv_shows_followings(row):\n",
    "    tv_show = onto.TVShow(name=row['tv_show_name'])\n",
    "\n",
    "    user = onto.User(name=row['user_id'])\n",
    "    user.follows.append(tv_show)\n",
    "    if row['active'] == '0' or row['archived'] == '1': # user has stopped following the tv show\n",
    "        user.had_stopped.append(tv_show)\n",
    "\n",
    "path = './data/followed_tv_show_modified.csv'\n",
    "load_data(path, process_tv_shows_followings)\n",
    "print(f'Loaded {len(onto.User.instances())} users and {len(onto.TVShow.instances())} TV shows')"
   ]
  },
  {
   "cell_type": "code",
   "execution_count": 6,
   "metadata": {},
   "outputs": [
    {
     "name": "stdout",
     "output_type": "stream",
     "text": [
      "Loaded 35 comments\n"
     ]
    }
   ],
   "source": [
    "def process_episodes_comments(row):\n",
    "    episode = onto.Episode(name=row['episode_id'])\n",
    "    user = onto.User(name=row['user_id'])\n",
    "    comment = onto.Comment(name=row['comment_id'])\n",
    "    comment.contenu = row['comment']\n",
    "    comment.posts.append(user)\n",
    "    comment.comments_on.append(episode)\n",
    "    comment.aPourDate = datetime.datetime.strptime(row['created_at'], '%Y-%m-%d %H:%M:%S').date()\n",
    "\n",
    "path = './data/episode_comment_modified.csv'\n",
    "load_data(path, process_episodes_comments)\n",
    "print(f'Loaded {len(onto.Comment.instances())} comments')"
   ]
  },
  {
   "cell_type": "code",
   "execution_count": 8,
   "metadata": {},
   "outputs": [
    {
     "ename": "KeyError",
     "evalue": "'emotion'",
     "output_type": "error",
     "traceback": [
      "\u001b[1;31m---------------------------------------------------------------------------\u001b[0m",
      "\u001b[1;31mKeyError\u001b[0m                                  Traceback (most recent call last)",
      "Cell \u001b[1;32mIn[8], line 11\u001b[0m\n\u001b[0;32m      8\u001b[0m     emotion\u001b[38;5;241m.\u001b[39maPourDate \u001b[38;5;241m=\u001b[39m datetime\u001b[38;5;241m.\u001b[39mdatetime\u001b[38;5;241m.\u001b[39mstrptime(row[\u001b[38;5;124m'\u001b[39m\u001b[38;5;124mcreated_at\u001b[39m\u001b[38;5;124m'\u001b[39m], \u001b[38;5;124m'\u001b[39m\u001b[38;5;124m%\u001b[39m\u001b[38;5;124mY-\u001b[39m\u001b[38;5;124m%\u001b[39m\u001b[38;5;124mm-\u001b[39m\u001b[38;5;132;01m%d\u001b[39;00m\u001b[38;5;124m \u001b[39m\u001b[38;5;124m%\u001b[39m\u001b[38;5;124mH:\u001b[39m\u001b[38;5;124m%\u001b[39m\u001b[38;5;124mM:\u001b[39m\u001b[38;5;124m%\u001b[39m\u001b[38;5;124mS\u001b[39m\u001b[38;5;124m'\u001b[39m)\u001b[38;5;241m.\u001b[39mdate()\n\u001b[0;32m     10\u001b[0m path \u001b[38;5;241m=\u001b[39m \u001b[38;5;124m'\u001b[39m\u001b[38;5;124m./data/emotions_episode_votes_modified.csv\u001b[39m\u001b[38;5;124m'\u001b[39m\n\u001b[1;32m---> 11\u001b[0m \u001b[43mload_data\u001b[49m\u001b[43m(\u001b[49m\u001b[43mpath\u001b[49m\u001b[43m,\u001b[49m\u001b[43m \u001b[49m\u001b[43mprocess_episodes_emotions\u001b[49m\u001b[43m)\u001b[49m\n\u001b[0;32m     12\u001b[0m \u001b[38;5;28mprint\u001b[39m(\u001b[38;5;124mf\u001b[39m\u001b[38;5;124m'\u001b[39m\u001b[38;5;124mLoaded \u001b[39m\u001b[38;5;132;01m{\u001b[39;00m\u001b[38;5;28mlen\u001b[39m(onto\u001b[38;5;241m.\u001b[39mEmotion\u001b[38;5;241m.\u001b[39minstances())\u001b[38;5;132;01m}\u001b[39;00m\u001b[38;5;124m emotions\u001b[39m\u001b[38;5;124m'\u001b[39m)\n",
      "Cell \u001b[1;32mIn[2], line 10\u001b[0m, in \u001b[0;36mload_data\u001b[1;34m(filename, process_row)\u001b[0m\n\u001b[0;32m      8\u001b[0m \u001b[38;5;28;01mif\u001b[39;00m count \u001b[38;5;241m>\u001b[39m \u001b[38;5;241m0\u001b[39m \u001b[38;5;129;01mand\u001b[39;00m count\u001b[38;5;241m%\u001b[39m\u001b[38;5;241m100000\u001b[39m \u001b[38;5;241m==\u001b[39m \u001b[38;5;241m0\u001b[39m:\n\u001b[0;32m      9\u001b[0m     \u001b[38;5;28mprint\u001b[39m(\u001b[38;5;124mf\u001b[39m\u001b[38;5;124m'\u001b[39m\u001b[38;5;124mProcessed \u001b[39m\u001b[38;5;132;01m{\u001b[39;00mcount\u001b[38;5;132;01m}\u001b[39;00m\u001b[38;5;124m rows\u001b[39m\u001b[38;5;124m'\u001b[39m)\n\u001b[1;32m---> 10\u001b[0m \u001b[43mprocess_row\u001b[49m\u001b[43m(\u001b[49m\u001b[43mrow\u001b[49m\u001b[43m)\u001b[49m\n\u001b[0;32m     11\u001b[0m count \u001b[38;5;241m+\u001b[39m\u001b[38;5;241m=\u001b[39m \u001b[38;5;241m1\u001b[39m\n",
      "Cell \u001b[1;32mIn[8], line 5\u001b[0m, in \u001b[0;36mprocess_episodes_emotions\u001b[1;34m(row)\u001b[0m\n\u001b[0;32m      3\u001b[0m user \u001b[38;5;241m=\u001b[39m onto\u001b[38;5;241m.\u001b[39mUser(name\u001b[38;5;241m=\u001b[39mrow[\u001b[38;5;124m'\u001b[39m\u001b[38;5;124muser_id\u001b[39m\u001b[38;5;124m'\u001b[39m])\n\u001b[0;32m      4\u001b[0m emotion \u001b[38;5;241m=\u001b[39m onto\u001b[38;5;241m.\u001b[39mEmotion(name\u001b[38;5;241m=\u001b[39mrow[\u001b[38;5;124m'\u001b[39m\u001b[38;5;124memotion_id\u001b[39m\u001b[38;5;124m'\u001b[39m])\n\u001b[1;32m----> 5\u001b[0m emotion\u001b[38;5;241m.\u001b[39memotion \u001b[38;5;241m=\u001b[39m \u001b[43mrow\u001b[49m\u001b[43m[\u001b[49m\u001b[38;5;124;43m'\u001b[39;49m\u001b[38;5;124;43memotion\u001b[39;49m\u001b[38;5;124;43m'\u001b[39;49m\u001b[43m]\u001b[49m\n\u001b[0;32m      6\u001b[0m emotion\u001b[38;5;241m.\u001b[39mexpressed_by\u001b[38;5;241m.\u001b[39mappend(user)\n\u001b[0;32m      7\u001b[0m emotion\u001b[38;5;241m.\u001b[39mevokes\u001b[38;5;241m.\u001b[39mappend(episode)\n",
      "\u001b[1;31mKeyError\u001b[0m: 'emotion'"
     ]
    }
   ],
   "source": [
    "def process_episodes_emotions(row):\n",
    "    episode = onto.Episode(name=row['episode_id'])\n",
    "    user = onto.User(name=row['user_id'])\n",
    "    emotion = onto.Emotion(name=row['emotion_vote_id'])\n",
    "    emotion.emotion = row['emotion_id']\n",
    "    emotion.expressed_by.append(user)\n",
    "    emotion.evokes.append(episode)\n",
    "    emotion.aPourDate = datetime.datetime.strptime(row['created_at'], '%Y-%m-%d %H:%M:%S').date()\n",
    "\n",
    "path = './data/emotions_episode_votes_modified.csv'\n",
    "load_data(path, process_episodes_emotions)\n",
    "print(f'Loaded {len(onto.Emotion.instances())} emotions')"
   ]
  },
  {
   "cell_type": "code",
   "execution_count": null,
   "metadata": {},
   "outputs": [],
   "source": []
  }
 ],
 "metadata": {
  "kernelspec": {
   "display_name": "Python 3",
   "language": "python",
   "name": "python3"
  },
  "language_info": {
   "codemirror_mode": {
    "name": "ipython",
    "version": 3
   },
   "file_extension": ".py",
   "mimetype": "text/x-python",
   "name": "python",
   "nbconvert_exporter": "python",
   "pygments_lexer": "ipython3",
   "version": "3.11.8"
  }
 },
 "nbformat": 4,
 "nbformat_minor": 2
}
