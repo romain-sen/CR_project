{
 "cells": [
  {
   "cell_type": "code",
   "execution_count": 1,
   "metadata": {},
   "outputs": [
    {
     "name": "stderr",
     "output_type": "stream",
     "text": [
      "* Owlready2 * Warning: optimized Cython parser module 'owlready2_optimized' is not available, defaulting to slower Python implementation\n"
     ]
    }
   ],
   "source": [
    "from owlready2 import Thing, get_ontology, AllDisjoint, sync_reasoner_pellet, Imp, FunctionalProperty\n",
    "from owlready2 import *\n",
    "\n",
    "# Create a new ontology\n",
    "onto = get_ontology(\"http://example.org/onto#\")\n",
    "\n",
    "# Define classes for the ontology based on the CSV file contents\n",
    "with onto:\n",
    "    class TVShow(Thing): pass\n",
    "    class Episode(Thing): pass\n",
    "    class User(Thing): pass\n",
    "    class Comment(Thing): pass\n",
    "    class Rating(Thing): pass\n",
    "    class Emotion(Thing): pass\n",
    "\n",
    "    # Define relationships\n",
    "    class posts_by(Comment >> User): pass\n",
    "    class posts_comment(User >> Comment):\n",
    "        inverse_property = posts_by\n",
    "    class comments_on(Comment >> Episode): pass\n",
    "\n",
    "    class follows(User >> TVShow): pass\n",
    "    class has_started(User >> TVShow): pass\n",
    "    class has_stopped(User >> TVShow): pass\n",
    "    class is_stopped_by(TVShow >> User): \n",
    "        domain = [TVShow]\n",
    "        range = [User]\n",
    "        inverse_property = has_stopped\n",
    "    class has_watched(User >> Episode): pass\n",
    "\n",
    "    class rated_by(Rating >> User): pass\n",
    "    class rates(Rating >> Episode): pass\n",
    "\n",
    "    class expressed_by(Emotion >> User): pass\n",
    "    class evokes(Emotion >> Episode):  pass\n",
    "\n",
    "    # Define properties\n",
    "    class has_username(User >> str, FunctionalProperty): pass\n",
    "    class has_follow_date(User >> str, FunctionalProperty): pass\n",
    "    class has_follow_status(User >> str, FunctionalProperty): pass\n",
    "\n",
    "    class has_name(TVShow >> str, FunctionalProperty): pass\n",
    "\n",
    "    class has_season_number(Episode >> int, FunctionalProperty): pass\n",
    "    class has_rewatched_count(Episode >> int, FunctionalProperty): pass\n",
    "    class has_number(Episode >> int, FunctionalProperty): pass\n",
    "    class has_date_of_seen(Episode >> str, FunctionalProperty): pass\n",
    "\n",
    "    class has_note(Rating >> int, FunctionalProperty): pass\n",
    "    class has_rating_date(Rating >> str, FunctionalProperty): pass\n",
    "\n",
    "    class has_text(Comment >> str, FunctionalProperty): pass\n",
    "    class has_comment_date(Comment >> str, FunctionalProperty): pass\n",
    "    class has_last_update(Comment >> str, FunctionalProperty): pass\n",
    "    class has_number_of_likes(Comment >> int, FunctionalProperty): pass\n",
    "\n",
    "    class has_emotion(Emotion >> int, FunctionalProperty): pass\n",
    "    class has_emotion_date(Emotion >> str, FunctionalProperty): pass"
   ]
  },
  {
   "cell_type": "code",
   "execution_count": 2,
   "metadata": {},
   "outputs": [
    {
     "name": "stderr",
     "output_type": "stream",
     "text": [
      "* Owlready2 * Running Pellet...\n",
      "    java -Xmx2000M -cp C:\\Users\\romai\\AppData\\Local\\Packages\\PythonSoftwareFoundation.Python.3.11_qbz5n2kfra8p0\\LocalCache\\local-packages\\Python311\\site-packages\\owlready2\\pellet\\antlr-3.2.jar;C:\\Users\\romai\\AppData\\Local\\Packages\\PythonSoftwareFoundation.Python.3.11_qbz5n2kfra8p0\\LocalCache\\local-packages\\Python311\\site-packages\\owlready2\\pellet\\antlr-runtime-3.2.jar;C:\\Users\\romai\\AppData\\Local\\Packages\\PythonSoftwareFoundation.Python.3.11_qbz5n2kfra8p0\\LocalCache\\local-packages\\Python311\\site-packages\\owlready2\\pellet\\aterm-java-1.6.jar;C:\\Users\\romai\\AppData\\Local\\Packages\\PythonSoftwareFoundation.Python.3.11_qbz5n2kfra8p0\\LocalCache\\local-packages\\Python311\\site-packages\\owlready2\\pellet\\commons-codec-1.6.jar;C:\\Users\\romai\\AppData\\Local\\Packages\\PythonSoftwareFoundation.Python.3.11_qbz5n2kfra8p0\\LocalCache\\local-packages\\Python311\\site-packages\\owlready2\\pellet\\httpclient-4.2.3.jar;C:\\Users\\romai\\AppData\\Local\\Packages\\PythonSoftwareFoundation.Python.3.11_qbz5n2kfra8p0\\LocalCache\\local-packages\\Python311\\site-packages\\owlready2\\pellet\\httpcore-4.2.2.jar;C:\\Users\\romai\\AppData\\Local\\Packages\\PythonSoftwareFoundation.Python.3.11_qbz5n2kfra8p0\\LocalCache\\local-packages\\Python311\\site-packages\\owlready2\\pellet\\jcl-over-slf4j-1.6.4.jar;C:\\Users\\romai\\AppData\\Local\\Packages\\PythonSoftwareFoundation.Python.3.11_qbz5n2kfra8p0\\LocalCache\\local-packages\\Python311\\site-packages\\owlready2\\pellet\\jena-arq-2.10.0.jar;C:\\Users\\romai\\AppData\\Local\\Packages\\PythonSoftwareFoundation.Python.3.11_qbz5n2kfra8p0\\LocalCache\\local-packages\\Python311\\site-packages\\owlready2\\pellet\\jena-core-2.10.0.jar;C:\\Users\\romai\\AppData\\Local\\Packages\\PythonSoftwareFoundation.Python.3.11_qbz5n2kfra8p0\\LocalCache\\local-packages\\Python311\\site-packages\\owlready2\\pellet\\jena-iri-0.9.5.jar;C:\\Users\\romai\\AppData\\Local\\Packages\\PythonSoftwareFoundation.Python.3.11_qbz5n2kfra8p0\\LocalCache\\local-packages\\Python311\\site-packages\\owlready2\\pellet\\jena-tdb-0.10.0.jar;C:\\Users\\romai\\AppData\\Local\\Packages\\PythonSoftwareFoundation.Python.3.11_qbz5n2kfra8p0\\LocalCache\\local-packages\\Python311\\site-packages\\owlready2\\pellet\\jgrapht-jdk1.5.jar;C:\\Users\\romai\\AppData\\Local\\Packages\\PythonSoftwareFoundation.Python.3.11_qbz5n2kfra8p0\\LocalCache\\local-packages\\Python311\\site-packages\\owlready2\\pellet\\log4j-1.2-api-2.19.0.jar;C:\\Users\\romai\\AppData\\Local\\Packages\\PythonSoftwareFoundation.Python.3.11_qbz5n2kfra8p0\\LocalCache\\local-packages\\Python311\\site-packages\\owlready2\\pellet\\log4j-api-2.19.0.jar;C:\\Users\\romai\\AppData\\Local\\Packages\\PythonSoftwareFoundation.Python.3.11_qbz5n2kfra8p0\\LocalCache\\local-packages\\Python311\\site-packages\\owlready2\\pellet\\log4j-core-2.19.0.jar;C:\\Users\\romai\\AppData\\Local\\Packages\\PythonSoftwareFoundation.Python.3.11_qbz5n2kfra8p0\\LocalCache\\local-packages\\Python311\\site-packages\\owlready2\\pellet\\owlapi-distribution-3.4.3-bin.jar;C:\\Users\\romai\\AppData\\Local\\Packages\\PythonSoftwareFoundation.Python.3.11_qbz5n2kfra8p0\\LocalCache\\local-packages\\Python311\\site-packages\\owlready2\\pellet\\pellet-2.3.1.jar;C:\\Users\\romai\\AppData\\Local\\Packages\\PythonSoftwareFoundation.Python.3.11_qbz5n2kfra8p0\\LocalCache\\local-packages\\Python311\\site-packages\\owlready2\\pellet\\slf4j-api-1.6.4.jar;C:\\Users\\romai\\AppData\\Local\\Packages\\PythonSoftwareFoundation.Python.3.11_qbz5n2kfra8p0\\LocalCache\\local-packages\\Python311\\site-packages\\owlready2\\pellet\\slf4j-log4j12-1.6.4.jar;C:\\Users\\romai\\AppData\\Local\\Packages\\PythonSoftwareFoundation.Python.3.11_qbz5n2kfra8p0\\LocalCache\\local-packages\\Python311\\site-packages\\owlready2\\pellet\\xercesImpl-2.10.0.jar;C:\\Users\\romai\\AppData\\Local\\Packages\\PythonSoftwareFoundation.Python.3.11_qbz5n2kfra8p0\\LocalCache\\local-packages\\Python311\\site-packages\\owlready2\\pellet\\xml-apis-1.4.01.jar pellet.Pellet realize --loader Jena --input-format N-Triples --infer-prop-values --infer-data-prop-values --ignore-imports C:\\Users\\romai\\AppData\\Local\\Temp\\tmp145alf50\n",
      "* Owlready2 * Pellet took 0.856285810470581 seconds\n",
      "* Owlready2 * Pellet output:\n",
      "\n",
      " http://www.w3.org/2002/07/owl#Thing\n",
      "    http://example.org/onto#Comment\n",
      "    http://example.org/onto#Emotion\n",
      "    http://example.org/onto#Episode\n",
      "    http://example.org/onto#Rating\n",
      "    http://example.org/onto#TVShow\n",
      "    http://example.org/onto#User\n",
      "\n",
      "\n",
      "* Owlready * (NB: only changes on entities loaded in Python are shown, other changes are done but not listed)\n"
     ]
    }
   ],
   "source": [
    "# Reasoning\n",
    "sync_reasoner_pellet([onto], infer_property_values = True, infer_data_property_values = True, debug=3)"
   ]
  },
  {
   "cell_type": "code",
   "execution_count": 3,
   "metadata": {},
   "outputs": [],
   "source": [
    "import csv\n",
    "\n",
    "def load_data(filename, process_row):\n",
    "    with open(filename, 'rt', encoding='utf-8') as file:\n",
    "        reader = csv.DictReader(file, delimiter=',')\n",
    "        count = 0\n",
    "        for row in reader:\n",
    "            if count > 0 and count%100000 == 0:\n",
    "                print(f'Processed {count} rows')\n",
    "            process_row(row)\n",
    "            count += 1"
   ]
  },
  {
   "cell_type": "code",
   "execution_count": 5,
   "metadata": {},
   "outputs": [
    {
     "name": "stdout",
     "output_type": "stream",
     "text": [
      "Loaded 106 TV shows and 5227 episodes seen and 1 users\n"
     ]
    }
   ],
   "source": [
    "import datetime\n",
    "\n",
    "def process_tv_shows_episodes(row):\n",
    "    tv_show = onto.TVShow(name=row['tv_show_name'])\n",
    "    tv_show.has_name = row['tv_show_name']\n",
    "\n",
    "    episode = onto.Episode(name=row['episode_id'])\n",
    "    episode.has_season_number = int(row['episode_season_number'])\n",
    "    episode.has_number = int(row['episode_number'])\n",
    "    episode.has_rewatched_count = int(row['rewatched_count'])\n",
    "    episode.has_date_of_seen = datetime.datetime.strptime(row['created_at'], '%Y-%m-%d %H:%M:%S').date()\n",
    "\n",
    "    user = onto.User(name=row['user_id'])\n",
    "    user.has_username = row['user_id']\n",
    "    user.has_started.append(tv_show) # user has started watching the tv show because they have seen at least one episode\n",
    "    user.has_watched.append(episode) # user has watched the episode\n",
    "\n",
    "path = './data/seen_episode_modified.csv'\n",
    "load_data(path, process_tv_shows_episodes)\n",
    "print(f'Loaded {len(onto.TVShow.instances())} TV shows and {len(onto.Episode.instances())} episodes seen and {len(onto.User.instances())} users')"
   ]
  },
  {
   "cell_type": "code",
   "execution_count": 6,
   "metadata": {},
   "outputs": [
    {
     "name": "stderr",
     "output_type": "stream",
     "text": [
      "* Owlready2 * Running Pellet...\n",
      "    java -Xmx2000M -cp C:\\Users\\romai\\AppData\\Local\\Packages\\PythonSoftwareFoundation.Python.3.11_qbz5n2kfra8p0\\LocalCache\\local-packages\\Python311\\site-packages\\owlready2\\pellet\\antlr-3.2.jar;C:\\Users\\romai\\AppData\\Local\\Packages\\PythonSoftwareFoundation.Python.3.11_qbz5n2kfra8p0\\LocalCache\\local-packages\\Python311\\site-packages\\owlready2\\pellet\\antlr-runtime-3.2.jar;C:\\Users\\romai\\AppData\\Local\\Packages\\PythonSoftwareFoundation.Python.3.11_qbz5n2kfra8p0\\LocalCache\\local-packages\\Python311\\site-packages\\owlready2\\pellet\\aterm-java-1.6.jar;C:\\Users\\romai\\AppData\\Local\\Packages\\PythonSoftwareFoundation.Python.3.11_qbz5n2kfra8p0\\LocalCache\\local-packages\\Python311\\site-packages\\owlready2\\pellet\\commons-codec-1.6.jar;C:\\Users\\romai\\AppData\\Local\\Packages\\PythonSoftwareFoundation.Python.3.11_qbz5n2kfra8p0\\LocalCache\\local-packages\\Python311\\site-packages\\owlready2\\pellet\\httpclient-4.2.3.jar;C:\\Users\\romai\\AppData\\Local\\Packages\\PythonSoftwareFoundation.Python.3.11_qbz5n2kfra8p0\\LocalCache\\local-packages\\Python311\\site-packages\\owlready2\\pellet\\httpcore-4.2.2.jar;C:\\Users\\romai\\AppData\\Local\\Packages\\PythonSoftwareFoundation.Python.3.11_qbz5n2kfra8p0\\LocalCache\\local-packages\\Python311\\site-packages\\owlready2\\pellet\\jcl-over-slf4j-1.6.4.jar;C:\\Users\\romai\\AppData\\Local\\Packages\\PythonSoftwareFoundation.Python.3.11_qbz5n2kfra8p0\\LocalCache\\local-packages\\Python311\\site-packages\\owlready2\\pellet\\jena-arq-2.10.0.jar;C:\\Users\\romai\\AppData\\Local\\Packages\\PythonSoftwareFoundation.Python.3.11_qbz5n2kfra8p0\\LocalCache\\local-packages\\Python311\\site-packages\\owlready2\\pellet\\jena-core-2.10.0.jar;C:\\Users\\romai\\AppData\\Local\\Packages\\PythonSoftwareFoundation.Python.3.11_qbz5n2kfra8p0\\LocalCache\\local-packages\\Python311\\site-packages\\owlready2\\pellet\\jena-iri-0.9.5.jar;C:\\Users\\romai\\AppData\\Local\\Packages\\PythonSoftwareFoundation.Python.3.11_qbz5n2kfra8p0\\LocalCache\\local-packages\\Python311\\site-packages\\owlready2\\pellet\\jena-tdb-0.10.0.jar;C:\\Users\\romai\\AppData\\Local\\Packages\\PythonSoftwareFoundation.Python.3.11_qbz5n2kfra8p0\\LocalCache\\local-packages\\Python311\\site-packages\\owlready2\\pellet\\jgrapht-jdk1.5.jar;C:\\Users\\romai\\AppData\\Local\\Packages\\PythonSoftwareFoundation.Python.3.11_qbz5n2kfra8p0\\LocalCache\\local-packages\\Python311\\site-packages\\owlready2\\pellet\\log4j-1.2-api-2.19.0.jar;C:\\Users\\romai\\AppData\\Local\\Packages\\PythonSoftwareFoundation.Python.3.11_qbz5n2kfra8p0\\LocalCache\\local-packages\\Python311\\site-packages\\owlready2\\pellet\\log4j-api-2.19.0.jar;C:\\Users\\romai\\AppData\\Local\\Packages\\PythonSoftwareFoundation.Python.3.11_qbz5n2kfra8p0\\LocalCache\\local-packages\\Python311\\site-packages\\owlready2\\pellet\\log4j-core-2.19.0.jar;C:\\Users\\romai\\AppData\\Local\\Packages\\PythonSoftwareFoundation.Python.3.11_qbz5n2kfra8p0\\LocalCache\\local-packages\\Python311\\site-packages\\owlready2\\pellet\\owlapi-distribution-3.4.3-bin.jar;C:\\Users\\romai\\AppData\\Local\\Packages\\PythonSoftwareFoundation.Python.3.11_qbz5n2kfra8p0\\LocalCache\\local-packages\\Python311\\site-packages\\owlready2\\pellet\\pellet-2.3.1.jar;C:\\Users\\romai\\AppData\\Local\\Packages\\PythonSoftwareFoundation.Python.3.11_qbz5n2kfra8p0\\LocalCache\\local-packages\\Python311\\site-packages\\owlready2\\pellet\\slf4j-api-1.6.4.jar;C:\\Users\\romai\\AppData\\Local\\Packages\\PythonSoftwareFoundation.Python.3.11_qbz5n2kfra8p0\\LocalCache\\local-packages\\Python311\\site-packages\\owlready2\\pellet\\slf4j-log4j12-1.6.4.jar;C:\\Users\\romai\\AppData\\Local\\Packages\\PythonSoftwareFoundation.Python.3.11_qbz5n2kfra8p0\\LocalCache\\local-packages\\Python311\\site-packages\\owlready2\\pellet\\xercesImpl-2.10.0.jar;C:\\Users\\romai\\AppData\\Local\\Packages\\PythonSoftwareFoundation.Python.3.11_qbz5n2kfra8p0\\LocalCache\\local-packages\\Python311\\site-packages\\owlready2\\pellet\\xml-apis-1.4.01.jar pellet.Pellet realize --loader Jena --input-format N-Triples --infer-prop-values --infer-data-prop-values --ignore-imports C:\\Users\\romai\\AppData\\Local\\Temp\\tmp29l90btr\n"
     ]
    },
    {
     "ename": "OwlReadyInconsistentOntologyError",
     "evalue": "Java error message is: ERROR: Ontology is inconsistent, run \"pellet explain\" to get the reason\r\n\nThis is the output of `pellet explain`: \n \nProblem parsing file:/C:/Users/romai/AppData/Local/Temp/tmp29l90btr\nUse -v for detail.\r\n",
     "output_type": "error",
     "traceback": [
      "\u001b[1;31m---------------------------------------------------------------------------\u001b[0m",
      "\u001b[1;31mCalledProcessError\u001b[0m                        Traceback (most recent call last)",
      "File \u001b[1;32m~\\AppData\\Local\\Packages\\PythonSoftwareFoundation.Python.3.11_qbz5n2kfra8p0\\LocalCache\\local-packages\\Python311\\site-packages\\owlready2\\reasoning.py:260\u001b[0m, in \u001b[0;36msync_reasoner_pellet\u001b[1;34m(x, infer_property_values, infer_data_property_values, debug, keep_tmp_file)\u001b[0m\n\u001b[0;32m    259\u001b[0m \u001b[38;5;28;01mtry\u001b[39;00m:\n\u001b[1;32m--> 260\u001b[0m   output \u001b[38;5;241m=\u001b[39m \u001b[43msubprocess\u001b[49m\u001b[38;5;241;43m.\u001b[39;49m\u001b[43mrun\u001b[49m\u001b[43m(\u001b[49m\u001b[43mcommand\u001b[49m\u001b[43m,\u001b[49m\u001b[43m \u001b[49m\u001b[43mstdout\u001b[49m\u001b[43m \u001b[49m\u001b[38;5;241;43m=\u001b[39;49m\u001b[43m \u001b[49m\u001b[43msubprocess\u001b[49m\u001b[38;5;241;43m.\u001b[39;49m\u001b[43mPIPE\u001b[49m\u001b[43m,\u001b[49m\u001b[43m \u001b[49m\u001b[43mstderr\u001b[49m\u001b[43m \u001b[49m\u001b[38;5;241;43m=\u001b[39;49m\u001b[43m \u001b[49m\u001b[43msubprocess\u001b[49m\u001b[38;5;241;43m.\u001b[39;49m\u001b[43mPIPE\u001b[49m\u001b[43m,\u001b[49m\u001b[43m \u001b[49m\u001b[43mcheck\u001b[49m\u001b[43m \u001b[49m\u001b[38;5;241;43m=\u001b[39;49m\u001b[43m \u001b[49m\u001b[38;5;28;43;01mTrue\u001b[39;49;00m\u001b[43m,\u001b[49m\u001b[43m \u001b[49m\u001b[38;5;241;43m*\u001b[39;49m\u001b[38;5;241;43m*\u001b[39;49m\u001b[43m_subprocess_kargs\u001b[49m\u001b[43m)\u001b[49m\u001b[38;5;241m.\u001b[39mstdout\n\u001b[0;32m    261\u001b[0m \u001b[38;5;28;01mexcept\u001b[39;00m subprocess\u001b[38;5;241m.\u001b[39mCalledProcessError \u001b[38;5;28;01mas\u001b[39;00m e:\n",
      "File \u001b[1;32mC:\\Program Files\\WindowsApps\\PythonSoftwareFoundation.Python.3.11_3.11.2288.0_x64__qbz5n2kfra8p0\\Lib\\subprocess.py:571\u001b[0m, in \u001b[0;36mrun\u001b[1;34m(input, capture_output, timeout, check, *popenargs, **kwargs)\u001b[0m\n\u001b[0;32m    570\u001b[0m     \u001b[38;5;28;01mif\u001b[39;00m check \u001b[38;5;129;01mand\u001b[39;00m retcode:\n\u001b[1;32m--> 571\u001b[0m         \u001b[38;5;28;01mraise\u001b[39;00m CalledProcessError(retcode, process\u001b[38;5;241m.\u001b[39margs,\n\u001b[0;32m    572\u001b[0m                                  output\u001b[38;5;241m=\u001b[39mstdout, stderr\u001b[38;5;241m=\u001b[39mstderr)\n\u001b[0;32m    573\u001b[0m \u001b[38;5;28;01mreturn\u001b[39;00m CompletedProcess(process\u001b[38;5;241m.\u001b[39margs, retcode, stdout, stderr)\n",
      "\u001b[1;31mCalledProcessError\u001b[0m: Command '['java', '-Xmx2000M', '-cp', 'C:\\\\Users\\\\romai\\\\AppData\\\\Local\\\\Packages\\\\PythonSoftwareFoundation.Python.3.11_qbz5n2kfra8p0\\\\LocalCache\\\\local-packages\\\\Python311\\\\site-packages\\\\owlready2\\\\pellet\\\\antlr-3.2.jar;C:\\\\Users\\\\romai\\\\AppData\\\\Local\\\\Packages\\\\PythonSoftwareFoundation.Python.3.11_qbz5n2kfra8p0\\\\LocalCache\\\\local-packages\\\\Python311\\\\site-packages\\\\owlready2\\\\pellet\\\\antlr-runtime-3.2.jar;C:\\\\Users\\\\romai\\\\AppData\\\\Local\\\\Packages\\\\PythonSoftwareFoundation.Python.3.11_qbz5n2kfra8p0\\\\LocalCache\\\\local-packages\\\\Python311\\\\site-packages\\\\owlready2\\\\pellet\\\\aterm-java-1.6.jar;C:\\\\Users\\\\romai\\\\AppData\\\\Local\\\\Packages\\\\PythonSoftwareFoundation.Python.3.11_qbz5n2kfra8p0\\\\LocalCache\\\\local-packages\\\\Python311\\\\site-packages\\\\owlready2\\\\pellet\\\\commons-codec-1.6.jar;C:\\\\Users\\\\romai\\\\AppData\\\\Local\\\\Packages\\\\PythonSoftwareFoundation.Python.3.11_qbz5n2kfra8p0\\\\LocalCache\\\\local-packages\\\\Python311\\\\site-packages\\\\owlready2\\\\pellet\\\\httpclient-4.2.3.jar;C:\\\\Users\\\\romai\\\\AppData\\\\Local\\\\Packages\\\\PythonSoftwareFoundation.Python.3.11_qbz5n2kfra8p0\\\\LocalCache\\\\local-packages\\\\Python311\\\\site-packages\\\\owlready2\\\\pellet\\\\httpcore-4.2.2.jar;C:\\\\Users\\\\romai\\\\AppData\\\\Local\\\\Packages\\\\PythonSoftwareFoundation.Python.3.11_qbz5n2kfra8p0\\\\LocalCache\\\\local-packages\\\\Python311\\\\site-packages\\\\owlready2\\\\pellet\\\\jcl-over-slf4j-1.6.4.jar;C:\\\\Users\\\\romai\\\\AppData\\\\Local\\\\Packages\\\\PythonSoftwareFoundation.Python.3.11_qbz5n2kfra8p0\\\\LocalCache\\\\local-packages\\\\Python311\\\\site-packages\\\\owlready2\\\\pellet\\\\jena-arq-2.10.0.jar;C:\\\\Users\\\\romai\\\\AppData\\\\Local\\\\Packages\\\\PythonSoftwareFoundation.Python.3.11_qbz5n2kfra8p0\\\\LocalCache\\\\local-packages\\\\Python311\\\\site-packages\\\\owlready2\\\\pellet\\\\jena-core-2.10.0.jar;C:\\\\Users\\\\romai\\\\AppData\\\\Local\\\\Packages\\\\PythonSoftwareFoundation.Python.3.11_qbz5n2kfra8p0\\\\LocalCache\\\\local-packages\\\\Python311\\\\site-packages\\\\owlready2\\\\pellet\\\\jena-iri-0.9.5.jar;C:\\\\Users\\\\romai\\\\AppData\\\\Local\\\\Packages\\\\PythonSoftwareFoundation.Python.3.11_qbz5n2kfra8p0\\\\LocalCache\\\\local-packages\\\\Python311\\\\site-packages\\\\owlready2\\\\pellet\\\\jena-tdb-0.10.0.jar;C:\\\\Users\\\\romai\\\\AppData\\\\Local\\\\Packages\\\\PythonSoftwareFoundation.Python.3.11_qbz5n2kfra8p0\\\\LocalCache\\\\local-packages\\\\Python311\\\\site-packages\\\\owlready2\\\\pellet\\\\jgrapht-jdk1.5.jar;C:\\\\Users\\\\romai\\\\AppData\\\\Local\\\\Packages\\\\PythonSoftwareFoundation.Python.3.11_qbz5n2kfra8p0\\\\LocalCache\\\\local-packages\\\\Python311\\\\site-packages\\\\owlready2\\\\pellet\\\\log4j-1.2-api-2.19.0.jar;C:\\\\Users\\\\romai\\\\AppData\\\\Local\\\\Packages\\\\PythonSoftwareFoundation.Python.3.11_qbz5n2kfra8p0\\\\LocalCache\\\\local-packages\\\\Python311\\\\site-packages\\\\owlready2\\\\pellet\\\\log4j-api-2.19.0.jar;C:\\\\Users\\\\romai\\\\AppData\\\\Local\\\\Packages\\\\PythonSoftwareFoundation.Python.3.11_qbz5n2kfra8p0\\\\LocalCache\\\\local-packages\\\\Python311\\\\site-packages\\\\owlready2\\\\pellet\\\\log4j-core-2.19.0.jar;C:\\\\Users\\\\romai\\\\AppData\\\\Local\\\\Packages\\\\PythonSoftwareFoundation.Python.3.11_qbz5n2kfra8p0\\\\LocalCache\\\\local-packages\\\\Python311\\\\site-packages\\\\owlready2\\\\pellet\\\\owlapi-distribution-3.4.3-bin.jar;C:\\\\Users\\\\romai\\\\AppData\\\\Local\\\\Packages\\\\PythonSoftwareFoundation.Python.3.11_qbz5n2kfra8p0\\\\LocalCache\\\\local-packages\\\\Python311\\\\site-packages\\\\owlready2\\\\pellet\\\\pellet-2.3.1.jar;C:\\\\Users\\\\romai\\\\AppData\\\\Local\\\\Packages\\\\PythonSoftwareFoundation.Python.3.11_qbz5n2kfra8p0\\\\LocalCache\\\\local-packages\\\\Python311\\\\site-packages\\\\owlready2\\\\pellet\\\\slf4j-api-1.6.4.jar;C:\\\\Users\\\\romai\\\\AppData\\\\Local\\\\Packages\\\\PythonSoftwareFoundation.Python.3.11_qbz5n2kfra8p0\\\\LocalCache\\\\local-packages\\\\Python311\\\\site-packages\\\\owlready2\\\\pellet\\\\slf4j-log4j12-1.6.4.jar;C:\\\\Users\\\\romai\\\\AppData\\\\Local\\\\Packages\\\\PythonSoftwareFoundation.Python.3.11_qbz5n2kfra8p0\\\\LocalCache\\\\local-packages\\\\Python311\\\\site-packages\\\\owlready2\\\\pellet\\\\xercesImpl-2.10.0.jar;C:\\\\Users\\\\romai\\\\AppData\\\\Local\\\\Packages\\\\PythonSoftwareFoundation.Python.3.11_qbz5n2kfra8p0\\\\LocalCache\\\\local-packages\\\\Python311\\\\site-packages\\\\owlready2\\\\pellet\\\\xml-apis-1.4.01.jar', 'pellet.Pellet', 'realize', '--loader', 'Jena', '--input-format', 'N-Triples', '--infer-prop-values', '--infer-data-prop-values', '--ignore-imports', 'C:\\\\Users\\\\romai\\\\AppData\\\\Local\\\\Temp\\\\tmp29l90btr']' returned non-zero exit status 1.",
      "\nDuring handling of the above exception, another exception occurred:\n",
      "\u001b[1;31mOwlReadyInconsistentOntologyError\u001b[0m         Traceback (most recent call last)",
      "Cell \u001b[1;32mIn[6], line 2\u001b[0m\n\u001b[0;32m      1\u001b[0m \u001b[38;5;66;03m# Reasoning\u001b[39;00m\n\u001b[1;32m----> 2\u001b[0m \u001b[43msync_reasoner_pellet\u001b[49m\u001b[43m(\u001b[49m\u001b[43m[\u001b[49m\u001b[43monto\u001b[49m\u001b[43m]\u001b[49m\u001b[43m,\u001b[49m\u001b[43m \u001b[49m\u001b[43minfer_property_values\u001b[49m\u001b[43m \u001b[49m\u001b[38;5;241;43m=\u001b[39;49m\u001b[43m \u001b[49m\u001b[38;5;28;43;01mTrue\u001b[39;49;00m\u001b[43m,\u001b[49m\u001b[43m \u001b[49m\u001b[43minfer_data_property_values\u001b[49m\u001b[43m \u001b[49m\u001b[38;5;241;43m=\u001b[39;49m\u001b[43m \u001b[49m\u001b[38;5;28;43;01mTrue\u001b[39;49;00m\u001b[43m,\u001b[49m\u001b[43m \u001b[49m\u001b[43mdebug\u001b[49m\u001b[38;5;241;43m=\u001b[39;49m\u001b[38;5;241;43m3\u001b[39;49m\u001b[43m)\u001b[49m\n",
      "File \u001b[1;32m~\\AppData\\Local\\Packages\\PythonSoftwareFoundation.Python.3.11_qbz5n2kfra8p0\\LocalCache\\local-packages\\Python311\\site-packages\\owlready2\\reasoning.py:270\u001b[0m, in \u001b[0;36msync_reasoner_pellet\u001b[1;34m(x, infer_property_values, infer_data_property_values, debug, keep_tmp_file)\u001b[0m\n\u001b[0;32m    267\u001b[0m     process \u001b[38;5;241m=\u001b[39m subprocess\u001b[38;5;241m.\u001b[39mrun(command_explain, stdout \u001b[38;5;241m=\u001b[39m subprocess\u001b[38;5;241m.\u001b[39mPIPE, stderr \u001b[38;5;241m=\u001b[39m subprocess\u001b[38;5;241m.\u001b[39mPIPE, check \u001b[38;5;241m=\u001b[39m \u001b[38;5;28;01mFalse\u001b[39;00m, \u001b[38;5;241m*\u001b[39m\u001b[38;5;241m*\u001b[39m_subprocess_kargs)\n\u001b[0;32m    268\u001b[0m     msg \u001b[38;5;241m+\u001b[39m\u001b[38;5;241m=\u001b[39m \u001b[38;5;124m\"\u001b[39m\u001b[38;5;130;01m\\n\u001b[39;00m\u001b[38;5;124mThis is the output of `pellet explain`: \u001b[39m\u001b[38;5;130;01m\\n\u001b[39;00m\u001b[38;5;124m \u001b[39m\u001b[38;5;132;01m{}\u001b[39;00m\u001b[38;5;130;01m\\n\u001b[39;00m\u001b[38;5;132;01m{}\u001b[39;00m\u001b[38;5;124m\"\u001b[39m\u001b[38;5;241m.\u001b[39mformat(_decode(process\u001b[38;5;241m.\u001b[39mstdout), _decode(process\u001b[38;5;241m.\u001b[39mstderr))\n\u001b[1;32m--> 270\u001b[0m   \u001b[38;5;28;01mraise\u001b[39;00m OwlReadyInconsistentOntologyError(\u001b[38;5;124m\"\u001b[39m\u001b[38;5;124mJava error message is: \u001b[39m\u001b[38;5;132;01m%s\u001b[39;00m\u001b[38;5;124m\"\u001b[39m \u001b[38;5;241m%\u001b[39m msg)\n\u001b[0;32m    272\u001b[0m \u001b[38;5;28;01melse\u001b[39;00m:\n\u001b[0;32m    273\u001b[0m   \u001b[38;5;28;01mraise\u001b[39;00m OwlReadyJavaError(\u001b[38;5;124m\"\u001b[39m\u001b[38;5;124mJava error message is:\u001b[39m\u001b[38;5;130;01m\\n\u001b[39;00m\u001b[38;5;132;01m%s\u001b[39;00m\u001b[38;5;124m\"\u001b[39m \u001b[38;5;241m%\u001b[39m _decode((e\u001b[38;5;241m.\u001b[39mstderr \u001b[38;5;129;01mor\u001b[39;00m e\u001b[38;5;241m.\u001b[39moutput \u001b[38;5;129;01mor\u001b[39;00m \u001b[38;5;124mb\u001b[39m\u001b[38;5;124m\"\u001b[39m\u001b[38;5;124m\"\u001b[39m)))\n",
      "\u001b[1;31mOwlReadyInconsistentOntologyError\u001b[0m: Java error message is: ERROR: Ontology is inconsistent, run \"pellet explain\" to get the reason\r\n\nThis is the output of `pellet explain`: \n \nProblem parsing file:/C:/Users/romai/AppData/Local/Temp/tmp29l90btr\nUse -v for detail.\r\n"
     ]
    }
   ],
   "source": [
    "# Reasoning\n",
    "sync_reasoner_pellet([onto], infer_property_values = True, infer_data_property_values = True, debug=3)"
   ]
  },
  {
   "cell_type": "code",
   "execution_count": 5,
   "metadata": {},
   "outputs": [
    {
     "name": "stdout",
     "output_type": "stream",
     "text": [
      "Loaded 339 ratings\n"
     ]
    }
   ],
   "source": [
    "def process_episodes_ratings(row):\n",
    "    episode = onto.Episode(name=row['episode_id'])\n",
    "    user = onto.User(name=row['user_id'])\n",
    "    rating = onto.Rating(name=row['vote_key'])\n",
    "    rating.has_note = int(row['note'])\n",
    "    rating.rated_by.append(user)\n",
    "    rating.rates.append(episode)\n",
    "    rating.has_rating_date = datetime.datetime.strptime(row['created_at'], '%Y-%m-%d %H:%M:%S').date()\n",
    "\n",
    "path = './data/ratings_episode_votes_modified.csv'\n",
    "load_data(path, process_episodes_ratings)\n",
    "print(f'Loaded {len(onto.Rating.instances())} ratings')"
   ]
  },
  {
   "cell_type": "code",
   "execution_count": 6,
   "metadata": {},
   "outputs": [
    {
     "name": "stdout",
     "output_type": "stream",
     "text": [
      "Loaded 1 users and 119 TV shows\n"
     ]
    }
   ],
   "source": [
    "def process_tv_shows_followings(row):\n",
    "    tv_show = onto.TVShow(name=row['tv_show_name'])\n",
    "\n",
    "    user = onto.User(name=row['user_id'])\n",
    "    user.follows.append(tv_show)\n",
    "    if row['active'] == '0' or row['archived'] == '1': # user has stopped following the tv show\n",
    "        user.has_stopped.append(tv_show)\n",
    "        tv_show.is_stopped_by.append(user)\n",
    "\n",
    "path = './data/followed_tv_show_modified.csv'\n",
    "load_data(path, process_tv_shows_followings)\n",
    "print(f'Loaded {len(onto.User.instances())} users and {len(onto.TVShow.instances())} TV shows')"
   ]
  },
  {
   "cell_type": "code",
   "execution_count": 7,
   "metadata": {},
   "outputs": [
    {
     "name": "stdout",
     "output_type": "stream",
     "text": [
      "Loaded 35 comments\n"
     ]
    }
   ],
   "source": [
    "def process_episodes_comments(row):\n",
    "    episode = onto.Episode(name=row['episode_id'])\n",
    "    user = onto.User(name=row['user_id'])\n",
    "    comment = onto.Comment(name=row['comment_id'])\n",
    "    comment.has_text = row['comment']\n",
    "    comment.posts_by.append(user)\n",
    "    comment.comments_on.append(episode)\n",
    "    comment.has_number_of_likes = int(row['nb_likes'])\n",
    "    comment.has_last_update = datetime.datetime.strptime(row['updated_at'], '%Y-%m-%d %H:%M:%S').date()\n",
    "    comment.has_comment_date = datetime.datetime.strptime(row['created_at'], '%Y-%m-%d %H:%M:%S').date()\n",
    "\n",
    "path = './data/episode_comment_modified.csv'\n",
    "load_data(path, process_episodes_comments)\n",
    "print(f'Loaded {len(onto.Comment.instances())} comments')"
   ]
  },
  {
   "cell_type": "code",
   "execution_count": 8,
   "metadata": {},
   "outputs": [
    {
     "name": "stdout",
     "output_type": "stream",
     "text": [
      "Loaded 341 emotions\n"
     ]
    }
   ],
   "source": [
    "def process_episodes_emotions(row):\n",
    "    episode = onto.Episode(name=row['episode_id'])\n",
    "    user = onto.User(name=row['user_id'])\n",
    "    emotion = onto.Emotion(name=row['emotion_vote_id'])\n",
    "    emotion.has_emotion = row['emotion_id']\n",
    "    emotion.expressed_by.append(user)\n",
    "    emotion.evokes.append(episode)\n",
    "    emotion.has_emotion_date = datetime.datetime.strptime(row['created_at'], '%Y-%m-%d %H:%M:%S').date()\n",
    "\n",
    "path = './data/emotions_episode_votes_modified.csv'\n",
    "load_data(path, process_episodes_emotions)\n",
    "print(f'Loaded {len(onto.Emotion.instances())} emotions')"
   ]
  },
  {
   "cell_type": "code",
   "execution_count": 9,
   "metadata": {},
   "outputs": [
    {
     "name": "stderr",
     "output_type": "stream",
     "text": [
      "* Owlready2 * Running Pellet...\n",
      "    java -Xmx2000M -cp C:\\Users\\romai\\AppData\\Local\\Packages\\PythonSoftwareFoundation.Python.3.11_qbz5n2kfra8p0\\LocalCache\\local-packages\\Python311\\site-packages\\owlready2\\pellet\\antlr-3.2.jar;C:\\Users\\romai\\AppData\\Local\\Packages\\PythonSoftwareFoundation.Python.3.11_qbz5n2kfra8p0\\LocalCache\\local-packages\\Python311\\site-packages\\owlready2\\pellet\\antlr-runtime-3.2.jar;C:\\Users\\romai\\AppData\\Local\\Packages\\PythonSoftwareFoundation.Python.3.11_qbz5n2kfra8p0\\LocalCache\\local-packages\\Python311\\site-packages\\owlready2\\pellet\\aterm-java-1.6.jar;C:\\Users\\romai\\AppData\\Local\\Packages\\PythonSoftwareFoundation.Python.3.11_qbz5n2kfra8p0\\LocalCache\\local-packages\\Python311\\site-packages\\owlready2\\pellet\\commons-codec-1.6.jar;C:\\Users\\romai\\AppData\\Local\\Packages\\PythonSoftwareFoundation.Python.3.11_qbz5n2kfra8p0\\LocalCache\\local-packages\\Python311\\site-packages\\owlready2\\pellet\\httpclient-4.2.3.jar;C:\\Users\\romai\\AppData\\Local\\Packages\\PythonSoftwareFoundation.Python.3.11_qbz5n2kfra8p0\\LocalCache\\local-packages\\Python311\\site-packages\\owlready2\\pellet\\httpcore-4.2.2.jar;C:\\Users\\romai\\AppData\\Local\\Packages\\PythonSoftwareFoundation.Python.3.11_qbz5n2kfra8p0\\LocalCache\\local-packages\\Python311\\site-packages\\owlready2\\pellet\\jcl-over-slf4j-1.6.4.jar;C:\\Users\\romai\\AppData\\Local\\Packages\\PythonSoftwareFoundation.Python.3.11_qbz5n2kfra8p0\\LocalCache\\local-packages\\Python311\\site-packages\\owlready2\\pellet\\jena-arq-2.10.0.jar;C:\\Users\\romai\\AppData\\Local\\Packages\\PythonSoftwareFoundation.Python.3.11_qbz5n2kfra8p0\\LocalCache\\local-packages\\Python311\\site-packages\\owlready2\\pellet\\jena-core-2.10.0.jar;C:\\Users\\romai\\AppData\\Local\\Packages\\PythonSoftwareFoundation.Python.3.11_qbz5n2kfra8p0\\LocalCache\\local-packages\\Python311\\site-packages\\owlready2\\pellet\\jena-iri-0.9.5.jar;C:\\Users\\romai\\AppData\\Local\\Packages\\PythonSoftwareFoundation.Python.3.11_qbz5n2kfra8p0\\LocalCache\\local-packages\\Python311\\site-packages\\owlready2\\pellet\\jena-tdb-0.10.0.jar;C:\\Users\\romai\\AppData\\Local\\Packages\\PythonSoftwareFoundation.Python.3.11_qbz5n2kfra8p0\\LocalCache\\local-packages\\Python311\\site-packages\\owlready2\\pellet\\jgrapht-jdk1.5.jar;C:\\Users\\romai\\AppData\\Local\\Packages\\PythonSoftwareFoundation.Python.3.11_qbz5n2kfra8p0\\LocalCache\\local-packages\\Python311\\site-packages\\owlready2\\pellet\\log4j-1.2-api-2.19.0.jar;C:\\Users\\romai\\AppData\\Local\\Packages\\PythonSoftwareFoundation.Python.3.11_qbz5n2kfra8p0\\LocalCache\\local-packages\\Python311\\site-packages\\owlready2\\pellet\\log4j-api-2.19.0.jar;C:\\Users\\romai\\AppData\\Local\\Packages\\PythonSoftwareFoundation.Python.3.11_qbz5n2kfra8p0\\LocalCache\\local-packages\\Python311\\site-packages\\owlready2\\pellet\\log4j-core-2.19.0.jar;C:\\Users\\romai\\AppData\\Local\\Packages\\PythonSoftwareFoundation.Python.3.11_qbz5n2kfra8p0\\LocalCache\\local-packages\\Python311\\site-packages\\owlready2\\pellet\\owlapi-distribution-3.4.3-bin.jar;C:\\Users\\romai\\AppData\\Local\\Packages\\PythonSoftwareFoundation.Python.3.11_qbz5n2kfra8p0\\LocalCache\\local-packages\\Python311\\site-packages\\owlready2\\pellet\\pellet-2.3.1.jar;C:\\Users\\romai\\AppData\\Local\\Packages\\PythonSoftwareFoundation.Python.3.11_qbz5n2kfra8p0\\LocalCache\\local-packages\\Python311\\site-packages\\owlready2\\pellet\\slf4j-api-1.6.4.jar;C:\\Users\\romai\\AppData\\Local\\Packages\\PythonSoftwareFoundation.Python.3.11_qbz5n2kfra8p0\\LocalCache\\local-packages\\Python311\\site-packages\\owlready2\\pellet\\slf4j-log4j12-1.6.4.jar;C:\\Users\\romai\\AppData\\Local\\Packages\\PythonSoftwareFoundation.Python.3.11_qbz5n2kfra8p0\\LocalCache\\local-packages\\Python311\\site-packages\\owlready2\\pellet\\xercesImpl-2.10.0.jar;C:\\Users\\romai\\AppData\\Local\\Packages\\PythonSoftwareFoundation.Python.3.11_qbz5n2kfra8p0\\LocalCache\\local-packages\\Python311\\site-packages\\owlready2\\pellet\\xml-apis-1.4.01.jar pellet.Pellet realize --loader Jena --input-format N-Triples --infer-prop-values --infer-data-prop-values --ignore-imports C:\\Users\\romai\\AppData\\Local\\Temp\\tmplocfbbga\n"
     ]
    },
    {
     "ename": "OwlReadyInconsistentOntologyError",
     "evalue": "Java error message is: ERROR: Ontology is inconsistent, run \"pellet explain\" to get the reason\r\n\nThis is the output of `pellet explain`: \n \nProblem parsing file:/C:/Users/romai/AppData/Local/Temp/tmplocfbbga\nUse -v for detail.\r\n",
     "output_type": "error",
     "traceback": [
      "\u001b[1;31m---------------------------------------------------------------------------\u001b[0m",
      "\u001b[1;31mCalledProcessError\u001b[0m                        Traceback (most recent call last)",
      "File \u001b[1;32m~\\AppData\\Local\\Packages\\PythonSoftwareFoundation.Python.3.11_qbz5n2kfra8p0\\LocalCache\\local-packages\\Python311\\site-packages\\owlready2\\reasoning.py:260\u001b[0m, in \u001b[0;36msync_reasoner_pellet\u001b[1;34m(x, infer_property_values, infer_data_property_values, debug, keep_tmp_file)\u001b[0m\n\u001b[0;32m    259\u001b[0m \u001b[38;5;28;01mtry\u001b[39;00m:\n\u001b[1;32m--> 260\u001b[0m   output \u001b[38;5;241m=\u001b[39m \u001b[43msubprocess\u001b[49m\u001b[38;5;241;43m.\u001b[39;49m\u001b[43mrun\u001b[49m\u001b[43m(\u001b[49m\u001b[43mcommand\u001b[49m\u001b[43m,\u001b[49m\u001b[43m \u001b[49m\u001b[43mstdout\u001b[49m\u001b[43m \u001b[49m\u001b[38;5;241;43m=\u001b[39;49m\u001b[43m \u001b[49m\u001b[43msubprocess\u001b[49m\u001b[38;5;241;43m.\u001b[39;49m\u001b[43mPIPE\u001b[49m\u001b[43m,\u001b[49m\u001b[43m \u001b[49m\u001b[43mstderr\u001b[49m\u001b[43m \u001b[49m\u001b[38;5;241;43m=\u001b[39;49m\u001b[43m \u001b[49m\u001b[43msubprocess\u001b[49m\u001b[38;5;241;43m.\u001b[39;49m\u001b[43mPIPE\u001b[49m\u001b[43m,\u001b[49m\u001b[43m \u001b[49m\u001b[43mcheck\u001b[49m\u001b[43m \u001b[49m\u001b[38;5;241;43m=\u001b[39;49m\u001b[43m \u001b[49m\u001b[38;5;28;43;01mTrue\u001b[39;49;00m\u001b[43m,\u001b[49m\u001b[43m \u001b[49m\u001b[38;5;241;43m*\u001b[39;49m\u001b[38;5;241;43m*\u001b[39;49m\u001b[43m_subprocess_kargs\u001b[49m\u001b[43m)\u001b[49m\u001b[38;5;241m.\u001b[39mstdout\n\u001b[0;32m    261\u001b[0m \u001b[38;5;28;01mexcept\u001b[39;00m subprocess\u001b[38;5;241m.\u001b[39mCalledProcessError \u001b[38;5;28;01mas\u001b[39;00m e:\n",
      "File \u001b[1;32mC:\\Program Files\\WindowsApps\\PythonSoftwareFoundation.Python.3.11_3.11.2288.0_x64__qbz5n2kfra8p0\\Lib\\subprocess.py:571\u001b[0m, in \u001b[0;36mrun\u001b[1;34m(input, capture_output, timeout, check, *popenargs, **kwargs)\u001b[0m\n\u001b[0;32m    570\u001b[0m     \u001b[38;5;28;01mif\u001b[39;00m check \u001b[38;5;129;01mand\u001b[39;00m retcode:\n\u001b[1;32m--> 571\u001b[0m         \u001b[38;5;28;01mraise\u001b[39;00m CalledProcessError(retcode, process\u001b[38;5;241m.\u001b[39margs,\n\u001b[0;32m    572\u001b[0m                                  output\u001b[38;5;241m=\u001b[39mstdout, stderr\u001b[38;5;241m=\u001b[39mstderr)\n\u001b[0;32m    573\u001b[0m \u001b[38;5;28;01mreturn\u001b[39;00m CompletedProcess(process\u001b[38;5;241m.\u001b[39margs, retcode, stdout, stderr)\n",
      "\u001b[1;31mCalledProcessError\u001b[0m: Command '['java', '-Xmx2000M', '-cp', 'C:\\\\Users\\\\romai\\\\AppData\\\\Local\\\\Packages\\\\PythonSoftwareFoundation.Python.3.11_qbz5n2kfra8p0\\\\LocalCache\\\\local-packages\\\\Python311\\\\site-packages\\\\owlready2\\\\pellet\\\\antlr-3.2.jar;C:\\\\Users\\\\romai\\\\AppData\\\\Local\\\\Packages\\\\PythonSoftwareFoundation.Python.3.11_qbz5n2kfra8p0\\\\LocalCache\\\\local-packages\\\\Python311\\\\site-packages\\\\owlready2\\\\pellet\\\\antlr-runtime-3.2.jar;C:\\\\Users\\\\romai\\\\AppData\\\\Local\\\\Packages\\\\PythonSoftwareFoundation.Python.3.11_qbz5n2kfra8p0\\\\LocalCache\\\\local-packages\\\\Python311\\\\site-packages\\\\owlready2\\\\pellet\\\\aterm-java-1.6.jar;C:\\\\Users\\\\romai\\\\AppData\\\\Local\\\\Packages\\\\PythonSoftwareFoundation.Python.3.11_qbz5n2kfra8p0\\\\LocalCache\\\\local-packages\\\\Python311\\\\site-packages\\\\owlready2\\\\pellet\\\\commons-codec-1.6.jar;C:\\\\Users\\\\romai\\\\AppData\\\\Local\\\\Packages\\\\PythonSoftwareFoundation.Python.3.11_qbz5n2kfra8p0\\\\LocalCache\\\\local-packages\\\\Python311\\\\site-packages\\\\owlready2\\\\pellet\\\\httpclient-4.2.3.jar;C:\\\\Users\\\\romai\\\\AppData\\\\Local\\\\Packages\\\\PythonSoftwareFoundation.Python.3.11_qbz5n2kfra8p0\\\\LocalCache\\\\local-packages\\\\Python311\\\\site-packages\\\\owlready2\\\\pellet\\\\httpcore-4.2.2.jar;C:\\\\Users\\\\romai\\\\AppData\\\\Local\\\\Packages\\\\PythonSoftwareFoundation.Python.3.11_qbz5n2kfra8p0\\\\LocalCache\\\\local-packages\\\\Python311\\\\site-packages\\\\owlready2\\\\pellet\\\\jcl-over-slf4j-1.6.4.jar;C:\\\\Users\\\\romai\\\\AppData\\\\Local\\\\Packages\\\\PythonSoftwareFoundation.Python.3.11_qbz5n2kfra8p0\\\\LocalCache\\\\local-packages\\\\Python311\\\\site-packages\\\\owlready2\\\\pellet\\\\jena-arq-2.10.0.jar;C:\\\\Users\\\\romai\\\\AppData\\\\Local\\\\Packages\\\\PythonSoftwareFoundation.Python.3.11_qbz5n2kfra8p0\\\\LocalCache\\\\local-packages\\\\Python311\\\\site-packages\\\\owlready2\\\\pellet\\\\jena-core-2.10.0.jar;C:\\\\Users\\\\romai\\\\AppData\\\\Local\\\\Packages\\\\PythonSoftwareFoundation.Python.3.11_qbz5n2kfra8p0\\\\LocalCache\\\\local-packages\\\\Python311\\\\site-packages\\\\owlready2\\\\pellet\\\\jena-iri-0.9.5.jar;C:\\\\Users\\\\romai\\\\AppData\\\\Local\\\\Packages\\\\PythonSoftwareFoundation.Python.3.11_qbz5n2kfra8p0\\\\LocalCache\\\\local-packages\\\\Python311\\\\site-packages\\\\owlready2\\\\pellet\\\\jena-tdb-0.10.0.jar;C:\\\\Users\\\\romai\\\\AppData\\\\Local\\\\Packages\\\\PythonSoftwareFoundation.Python.3.11_qbz5n2kfra8p0\\\\LocalCache\\\\local-packages\\\\Python311\\\\site-packages\\\\owlready2\\\\pellet\\\\jgrapht-jdk1.5.jar;C:\\\\Users\\\\romai\\\\AppData\\\\Local\\\\Packages\\\\PythonSoftwareFoundation.Python.3.11_qbz5n2kfra8p0\\\\LocalCache\\\\local-packages\\\\Python311\\\\site-packages\\\\owlready2\\\\pellet\\\\log4j-1.2-api-2.19.0.jar;C:\\\\Users\\\\romai\\\\AppData\\\\Local\\\\Packages\\\\PythonSoftwareFoundation.Python.3.11_qbz5n2kfra8p0\\\\LocalCache\\\\local-packages\\\\Python311\\\\site-packages\\\\owlready2\\\\pellet\\\\log4j-api-2.19.0.jar;C:\\\\Users\\\\romai\\\\AppData\\\\Local\\\\Packages\\\\PythonSoftwareFoundation.Python.3.11_qbz5n2kfra8p0\\\\LocalCache\\\\local-packages\\\\Python311\\\\site-packages\\\\owlready2\\\\pellet\\\\log4j-core-2.19.0.jar;C:\\\\Users\\\\romai\\\\AppData\\\\Local\\\\Packages\\\\PythonSoftwareFoundation.Python.3.11_qbz5n2kfra8p0\\\\LocalCache\\\\local-packages\\\\Python311\\\\site-packages\\\\owlready2\\\\pellet\\\\owlapi-distribution-3.4.3-bin.jar;C:\\\\Users\\\\romai\\\\AppData\\\\Local\\\\Packages\\\\PythonSoftwareFoundation.Python.3.11_qbz5n2kfra8p0\\\\LocalCache\\\\local-packages\\\\Python311\\\\site-packages\\\\owlready2\\\\pellet\\\\pellet-2.3.1.jar;C:\\\\Users\\\\romai\\\\AppData\\\\Local\\\\Packages\\\\PythonSoftwareFoundation.Python.3.11_qbz5n2kfra8p0\\\\LocalCache\\\\local-packages\\\\Python311\\\\site-packages\\\\owlready2\\\\pellet\\\\slf4j-api-1.6.4.jar;C:\\\\Users\\\\romai\\\\AppData\\\\Local\\\\Packages\\\\PythonSoftwareFoundation.Python.3.11_qbz5n2kfra8p0\\\\LocalCache\\\\local-packages\\\\Python311\\\\site-packages\\\\owlready2\\\\pellet\\\\slf4j-log4j12-1.6.4.jar;C:\\\\Users\\\\romai\\\\AppData\\\\Local\\\\Packages\\\\PythonSoftwareFoundation.Python.3.11_qbz5n2kfra8p0\\\\LocalCache\\\\local-packages\\\\Python311\\\\site-packages\\\\owlready2\\\\pellet\\\\xercesImpl-2.10.0.jar;C:\\\\Users\\\\romai\\\\AppData\\\\Local\\\\Packages\\\\PythonSoftwareFoundation.Python.3.11_qbz5n2kfra8p0\\\\LocalCache\\\\local-packages\\\\Python311\\\\site-packages\\\\owlready2\\\\pellet\\\\xml-apis-1.4.01.jar', 'pellet.Pellet', 'realize', '--loader', 'Jena', '--input-format', 'N-Triples', '--infer-prop-values', '--infer-data-prop-values', '--ignore-imports', 'C:\\\\Users\\\\romai\\\\AppData\\\\Local\\\\Temp\\\\tmplocfbbga']' returned non-zero exit status 1.",
      "\nDuring handling of the above exception, another exception occurred:\n",
      "\u001b[1;31mOwlReadyInconsistentOntologyError\u001b[0m         Traceback (most recent call last)",
      "Cell \u001b[1;32mIn[9], line 2\u001b[0m\n\u001b[0;32m      1\u001b[0m \u001b[38;5;66;03m# Reasoning\u001b[39;00m\n\u001b[1;32m----> 2\u001b[0m \u001b[43msync_reasoner_pellet\u001b[49m\u001b[43m(\u001b[49m\u001b[43m[\u001b[49m\u001b[43monto\u001b[49m\u001b[43m]\u001b[49m\u001b[43m,\u001b[49m\u001b[43m \u001b[49m\u001b[43minfer_property_values\u001b[49m\u001b[43m \u001b[49m\u001b[38;5;241;43m=\u001b[39;49m\u001b[43m \u001b[49m\u001b[38;5;28;43;01mTrue\u001b[39;49;00m\u001b[43m,\u001b[49m\u001b[43m \u001b[49m\u001b[43minfer_data_property_values\u001b[49m\u001b[43m \u001b[49m\u001b[38;5;241;43m=\u001b[39;49m\u001b[43m \u001b[49m\u001b[38;5;28;43;01mTrue\u001b[39;49;00m\u001b[43m,\u001b[49m\u001b[43m \u001b[49m\u001b[43mdebug\u001b[49m\u001b[38;5;241;43m=\u001b[39;49m\u001b[38;5;241;43m3\u001b[39;49m\u001b[43m)\u001b[49m\n",
      "File \u001b[1;32m~\\AppData\\Local\\Packages\\PythonSoftwareFoundation.Python.3.11_qbz5n2kfra8p0\\LocalCache\\local-packages\\Python311\\site-packages\\owlready2\\reasoning.py:270\u001b[0m, in \u001b[0;36msync_reasoner_pellet\u001b[1;34m(x, infer_property_values, infer_data_property_values, debug, keep_tmp_file)\u001b[0m\n\u001b[0;32m    267\u001b[0m     process \u001b[38;5;241m=\u001b[39m subprocess\u001b[38;5;241m.\u001b[39mrun(command_explain, stdout \u001b[38;5;241m=\u001b[39m subprocess\u001b[38;5;241m.\u001b[39mPIPE, stderr \u001b[38;5;241m=\u001b[39m subprocess\u001b[38;5;241m.\u001b[39mPIPE, check \u001b[38;5;241m=\u001b[39m \u001b[38;5;28;01mFalse\u001b[39;00m, \u001b[38;5;241m*\u001b[39m\u001b[38;5;241m*\u001b[39m_subprocess_kargs)\n\u001b[0;32m    268\u001b[0m     msg \u001b[38;5;241m+\u001b[39m\u001b[38;5;241m=\u001b[39m \u001b[38;5;124m\"\u001b[39m\u001b[38;5;130;01m\\n\u001b[39;00m\u001b[38;5;124mThis is the output of `pellet explain`: \u001b[39m\u001b[38;5;130;01m\\n\u001b[39;00m\u001b[38;5;124m \u001b[39m\u001b[38;5;132;01m{}\u001b[39;00m\u001b[38;5;130;01m\\n\u001b[39;00m\u001b[38;5;132;01m{}\u001b[39;00m\u001b[38;5;124m\"\u001b[39m\u001b[38;5;241m.\u001b[39mformat(_decode(process\u001b[38;5;241m.\u001b[39mstdout), _decode(process\u001b[38;5;241m.\u001b[39mstderr))\n\u001b[1;32m--> 270\u001b[0m   \u001b[38;5;28;01mraise\u001b[39;00m OwlReadyInconsistentOntologyError(\u001b[38;5;124m\"\u001b[39m\u001b[38;5;124mJava error message is: \u001b[39m\u001b[38;5;132;01m%s\u001b[39;00m\u001b[38;5;124m\"\u001b[39m \u001b[38;5;241m%\u001b[39m msg)\n\u001b[0;32m    272\u001b[0m \u001b[38;5;28;01melse\u001b[39;00m:\n\u001b[0;32m    273\u001b[0m   \u001b[38;5;28;01mraise\u001b[39;00m OwlReadyJavaError(\u001b[38;5;124m\"\u001b[39m\u001b[38;5;124mJava error message is:\u001b[39m\u001b[38;5;130;01m\\n\u001b[39;00m\u001b[38;5;132;01m%s\u001b[39;00m\u001b[38;5;124m\"\u001b[39m \u001b[38;5;241m%\u001b[39m _decode((e\u001b[38;5;241m.\u001b[39mstderr \u001b[38;5;129;01mor\u001b[39;00m e\u001b[38;5;241m.\u001b[39moutput \u001b[38;5;129;01mor\u001b[39;00m \u001b[38;5;124mb\u001b[39m\u001b[38;5;124m\"\u001b[39m\u001b[38;5;124m\"\u001b[39m)))\n",
      "\u001b[1;31mOwlReadyInconsistentOntologyError\u001b[0m: Java error message is: ERROR: Ontology is inconsistent, run \"pellet explain\" to get the reason\r\n\nThis is the output of `pellet explain`: \n \nProblem parsing file:/C:/Users/romai/AppData/Local/Temp/tmplocfbbga\nUse -v for detail.\r\n"
     ]
    }
   ],
   "source": [
    "# Reasoning\n",
    "sync_reasoner_pellet([onto], infer_property_values = True, infer_data_property_values = True, debug=3)"
   ]
  },
  {
   "cell_type": "code",
   "execution_count": 9,
   "metadata": {},
   "outputs": [],
   "source": [
    "# Save the ontology\n",
    "onto.save(file = \"tvtime_ontology_bug.owl\", format = \"rdfxml\")"
   ]
  },
  {
   "cell_type": "markdown",
   "metadata": {},
   "source": [
    "# Création de classes plus complexes"
   ]
  },
  {
   "cell_type": "code",
   "execution_count": null,
   "metadata": {},
   "outputs": [],
   "source": []
  },
  {
   "cell_type": "code",
   "execution_count": 10,
   "metadata": {},
   "outputs": [],
   "source": [
    "with onto:\n",
    "    class User(Thing):\n",
    "        equivalent_to = [User & (has_started.some(TVShow) & has_watched.some(Episode) & follows.some(TVShow) & has_stopped.some(TVShow))]\n",
    "\n",
    "    class TVShow(Thing):\n",
    "        equivalent_to = [TVShow & (follows.some(User) & has_started.some(User) & is_stopped_by.some(User))]\n",
    "\n",
    "    class Episode(Thing):\n",
    "        equivalent_to = [Episode & (has_watched.some(User) & rates.some(Rating) & comments_on.some(Comment) & evokes.some(Emotion))]\n",
    "\n",
    "    class Comment(Thing):\n",
    "        equivalent_to = [Comment & (posts_by.some(User) & comments_on.some(Episode))]\n",
    "\n",
    "    class Rating(Thing):\n",
    "        equivalent_to = [Rating & (rated_by.some(User) & rates.some(Episode))]\n",
    "\n",
    "    class Emotion(Thing):\n",
    "        equivalent_to = [Emotion & (expressed_by.some(User) & evokes.some(Episode))]"
   ]
  },
  {
   "cell_type": "code",
   "execution_count": 11,
   "metadata": {},
   "outputs": [
    {
     "name": "stderr",
     "output_type": "stream",
     "text": [
      "* Owlready2 * Running Pellet...\n",
      "    java -Xmx2000M -cp C:\\Users\\romai\\AppData\\Local\\Packages\\PythonSoftwareFoundation.Python.3.11_qbz5n2kfra8p0\\LocalCache\\local-packages\\Python311\\site-packages\\owlready2\\pellet\\antlr-3.2.jar;C:\\Users\\romai\\AppData\\Local\\Packages\\PythonSoftwareFoundation.Python.3.11_qbz5n2kfra8p0\\LocalCache\\local-packages\\Python311\\site-packages\\owlready2\\pellet\\antlr-runtime-3.2.jar;C:\\Users\\romai\\AppData\\Local\\Packages\\PythonSoftwareFoundation.Python.3.11_qbz5n2kfra8p0\\LocalCache\\local-packages\\Python311\\site-packages\\owlready2\\pellet\\aterm-java-1.6.jar;C:\\Users\\romai\\AppData\\Local\\Packages\\PythonSoftwareFoundation.Python.3.11_qbz5n2kfra8p0\\LocalCache\\local-packages\\Python311\\site-packages\\owlready2\\pellet\\commons-codec-1.6.jar;C:\\Users\\romai\\AppData\\Local\\Packages\\PythonSoftwareFoundation.Python.3.11_qbz5n2kfra8p0\\LocalCache\\local-packages\\Python311\\site-packages\\owlready2\\pellet\\httpclient-4.2.3.jar;C:\\Users\\romai\\AppData\\Local\\Packages\\PythonSoftwareFoundation.Python.3.11_qbz5n2kfra8p0\\LocalCache\\local-packages\\Python311\\site-packages\\owlready2\\pellet\\httpcore-4.2.2.jar;C:\\Users\\romai\\AppData\\Local\\Packages\\PythonSoftwareFoundation.Python.3.11_qbz5n2kfra8p0\\LocalCache\\local-packages\\Python311\\site-packages\\owlready2\\pellet\\jcl-over-slf4j-1.6.4.jar;C:\\Users\\romai\\AppData\\Local\\Packages\\PythonSoftwareFoundation.Python.3.11_qbz5n2kfra8p0\\LocalCache\\local-packages\\Python311\\site-packages\\owlready2\\pellet\\jena-arq-2.10.0.jar;C:\\Users\\romai\\AppData\\Local\\Packages\\PythonSoftwareFoundation.Python.3.11_qbz5n2kfra8p0\\LocalCache\\local-packages\\Python311\\site-packages\\owlready2\\pellet\\jena-core-2.10.0.jar;C:\\Users\\romai\\AppData\\Local\\Packages\\PythonSoftwareFoundation.Python.3.11_qbz5n2kfra8p0\\LocalCache\\local-packages\\Python311\\site-packages\\owlready2\\pellet\\jena-iri-0.9.5.jar;C:\\Users\\romai\\AppData\\Local\\Packages\\PythonSoftwareFoundation.Python.3.11_qbz5n2kfra8p0\\LocalCache\\local-packages\\Python311\\site-packages\\owlready2\\pellet\\jena-tdb-0.10.0.jar;C:\\Users\\romai\\AppData\\Local\\Packages\\PythonSoftwareFoundation.Python.3.11_qbz5n2kfra8p0\\LocalCache\\local-packages\\Python311\\site-packages\\owlready2\\pellet\\jgrapht-jdk1.5.jar;C:\\Users\\romai\\AppData\\Local\\Packages\\PythonSoftwareFoundation.Python.3.11_qbz5n2kfra8p0\\LocalCache\\local-packages\\Python311\\site-packages\\owlready2\\pellet\\log4j-1.2-api-2.19.0.jar;C:\\Users\\romai\\AppData\\Local\\Packages\\PythonSoftwareFoundation.Python.3.11_qbz5n2kfra8p0\\LocalCache\\local-packages\\Python311\\site-packages\\owlready2\\pellet\\log4j-api-2.19.0.jar;C:\\Users\\romai\\AppData\\Local\\Packages\\PythonSoftwareFoundation.Python.3.11_qbz5n2kfra8p0\\LocalCache\\local-packages\\Python311\\site-packages\\owlready2\\pellet\\log4j-core-2.19.0.jar;C:\\Users\\romai\\AppData\\Local\\Packages\\PythonSoftwareFoundation.Python.3.11_qbz5n2kfra8p0\\LocalCache\\local-packages\\Python311\\site-packages\\owlready2\\pellet\\owlapi-distribution-3.4.3-bin.jar;C:\\Users\\romai\\AppData\\Local\\Packages\\PythonSoftwareFoundation.Python.3.11_qbz5n2kfra8p0\\LocalCache\\local-packages\\Python311\\site-packages\\owlready2\\pellet\\pellet-2.3.1.jar;C:\\Users\\romai\\AppData\\Local\\Packages\\PythonSoftwareFoundation.Python.3.11_qbz5n2kfra8p0\\LocalCache\\local-packages\\Python311\\site-packages\\owlready2\\pellet\\slf4j-api-1.6.4.jar;C:\\Users\\romai\\AppData\\Local\\Packages\\PythonSoftwareFoundation.Python.3.11_qbz5n2kfra8p0\\LocalCache\\local-packages\\Python311\\site-packages\\owlready2\\pellet\\slf4j-log4j12-1.6.4.jar;C:\\Users\\romai\\AppData\\Local\\Packages\\PythonSoftwareFoundation.Python.3.11_qbz5n2kfra8p0\\LocalCache\\local-packages\\Python311\\site-packages\\owlready2\\pellet\\xercesImpl-2.10.0.jar;C:\\Users\\romai\\AppData\\Local\\Packages\\PythonSoftwareFoundation.Python.3.11_qbz5n2kfra8p0\\LocalCache\\local-packages\\Python311\\site-packages\\owlready2\\pellet\\xml-apis-1.4.01.jar pellet.Pellet realize --loader Jena --input-format N-Triples --infer-prop-values --infer-data-prop-values --ignore-imports C:\\Users\\romai\\AppData\\Local\\Temp\\tmp8jeycid3\n",
      "* Owlready2 * Pellet took 19.311694622039795 seconds\n",
      "* Owlready * Reparenting onto.Episode: {owl.Thing} => {onto.Comment, onto.Emotion, onto.User, onto.Rating}\n",
      "* Owlready * Reparenting onto.TVShow: {owl.Thing} => {onto.User}\n",
      "* Owlready * (NB: only changes on entities loaded in Python are shown, other changes are done but not listed)\n"
     ]
    }
   ],
   "source": [
    "sync_reasoner_pellet([onto], infer_property_values = True, infer_data_property_values = True, debug=True)"
   ]
  },
  {
   "cell_type": "code",
   "execution_count": 9,
   "metadata": {},
   "outputs": [
    {
     "ename": "ValueError",
     "evalue": "Cannot find entity 'TVShowEngageUser'!",
     "output_type": "error",
     "traceback": [
      "\u001b[1;31m---------------------------------------------------------------------------\u001b[0m",
      "\u001b[1;31mValueError\u001b[0m                                Traceback (most recent call last)",
      "Cell \u001b[1;32mIn[9], line 3\u001b[0m\n\u001b[0;32m      1\u001b[0m \u001b[38;5;28;01mwith\u001b[39;00m onto:\n\u001b[1;32m----> 3\u001b[0m \u001b[43m    \u001b[49m\u001b[38;5;28;43;01mclass\u001b[39;49;00m\u001b[43m \u001b[49m\u001b[38;5;21;43;01mTVShowEngageUser\u001b[39;49;00m\u001b[43m(\u001b[49m\u001b[43mThing\u001b[49m\u001b[43m)\u001b[49m\u001b[43m:\u001b[49m\n\u001b[0;32m      4\u001b[0m \u001b[43m        \u001b[49m\u001b[38;5;66;43;03m# A tv show engages a user if the user has started watching the tv show, has watched at least one episode and has not stopped watching the tv show\u001b[39;49;00m\n\u001b[0;32m      5\u001b[0m \u001b[43m        \u001b[49m\u001b[38;5;66;43;03m# equivalent_to = [TVShow & (has_started.some(User) & has_watched.some(Episode) & Not(has_stopped.some(User)))]\u001b[39;49;00m\n\u001b[0;32m      6\u001b[0m \u001b[43m        \u001b[49m\u001b[43mrule1\u001b[49m\u001b[43m \u001b[49m\u001b[38;5;241;43m=\u001b[39;49m\u001b[43m \u001b[49m\u001b[43mImp\u001b[49m\u001b[43m(\u001b[49m\u001b[43m)\u001b[49m\n\u001b[0;32m      7\u001b[0m \u001b[43m        \u001b[49m\u001b[43mrule1\u001b[49m\u001b[38;5;241;43m.\u001b[39;49m\u001b[43mset_as_rule\u001b[49m\u001b[43m(\u001b[49m\u001b[38;5;124;43m'''\u001b[39;49m\n\u001b[0;32m      8\u001b[0m \u001b[38;5;124;43m            has_started(?user, ?tv_show),\u001b[39;49m\n\u001b[0;32m      9\u001b[0m \u001b[38;5;124;43m            has_watched(?user, ?episode)\u001b[39;49m\n\u001b[0;32m     10\u001b[0m \u001b[38;5;124;43m            -> TVShowEngageUser(?tv_show)\u001b[39;49m\u001b[38;5;124;43m'''\u001b[39;49m\u001b[43m)\u001b[49m\n",
      "Cell \u001b[1;32mIn[9], line 7\u001b[0m, in \u001b[0;36mTVShowEngageUser\u001b[1;34m()\u001b[0m\n\u001b[0;32m      3\u001b[0m \u001b[38;5;28;01mclass\u001b[39;00m \u001b[38;5;21;01mTVShowEngageUser\u001b[39;00m(Thing):\n\u001b[0;32m      4\u001b[0m     \u001b[38;5;66;03m# A tv show engages a user if the user has started watching the tv show, has watched at least one episode and has not stopped watching the tv show\u001b[39;00m\n\u001b[0;32m      5\u001b[0m     \u001b[38;5;66;03m# equivalent_to = [TVShow & (has_started.some(User) & has_watched.some(Episode) & Not(has_stopped.some(User)))]\u001b[39;00m\n\u001b[0;32m      6\u001b[0m     rule1 \u001b[38;5;241m=\u001b[39m Imp()\n\u001b[1;32m----> 7\u001b[0m     \u001b[43mrule1\u001b[49m\u001b[38;5;241;43m.\u001b[39;49m\u001b[43mset_as_rule\u001b[49m\u001b[43m(\u001b[49m\u001b[38;5;124;43m'''\u001b[39;49m\n\u001b[0;32m      8\u001b[0m \u001b[38;5;124;43m        has_started(?user, ?tv_show),\u001b[39;49m\n\u001b[0;32m      9\u001b[0m \u001b[38;5;124;43m        has_watched(?user, ?episode)\u001b[39;49m\n\u001b[0;32m     10\u001b[0m \u001b[38;5;124;43m        -> TVShowEngageUser(?tv_show)\u001b[39;49m\u001b[38;5;124;43m'''\u001b[39;49m\u001b[43m)\u001b[49m\n",
      "File \u001b[1;32m~\\AppData\\Local\\Packages\\PythonSoftwareFoundation.Python.3.11_qbz5n2kfra8p0\\LocalCache\\local-packages\\Python311\\site-packages\\owlready2\\rule.py:139\u001b[0m, in \u001b[0;36mImp.set_as_rule\u001b[1;34m(self, rule, namespaces)\u001b[0m\n\u001b[0;32m    137\u001b[0m \u001b[38;5;28;01melif\u001b[39;00m atom \u001b[38;5;129;01min\u001b[39;00m _NAME_2_DATARANGE: atom \u001b[38;5;241m=\u001b[39m DataRangeAtom(datarange \u001b[38;5;241m=\u001b[39m _NAME_2_DATARANGE[atom])\n\u001b[0;32m    138\u001b[0m \u001b[38;5;28;01melse\u001b[39;00m:\n\u001b[1;32m--> 139\u001b[0m   entity \u001b[38;5;241m=\u001b[39m \u001b[43m_find_entity\u001b[49m\u001b[43m(\u001b[49m\u001b[43matom\u001b[49m\u001b[43m,\u001b[49m\u001b[43m \u001b[49m\u001b[43mnamespaces\u001b[49m\u001b[43m)\u001b[49m\n\u001b[0;32m    140\u001b[0m   \u001b[38;5;28;01mif\u001b[39;00m   \u001b[38;5;28misinstance\u001b[39m(entity, ThingClass):          atom \u001b[38;5;241m=\u001b[39m ClassAtom             (class_predicate    \u001b[38;5;241m=\u001b[39m entity)\n\u001b[0;32m    141\u001b[0m   \u001b[38;5;28;01melif\u001b[39;00m \u001b[38;5;28misinstance\u001b[39m(entity, ObjectPropertyClass): atom \u001b[38;5;241m=\u001b[39m IndividualPropertyAtom(property_predicate \u001b[38;5;241m=\u001b[39m entity)\n",
      "File \u001b[1;32m~\\AppData\\Local\\Packages\\PythonSoftwareFoundation.Python.3.11_qbz5n2kfra8p0\\LocalCache\\local-packages\\Python311\\site-packages\\owlready2\\rule.py:181\u001b[0m, in \u001b[0;36m_find_entity\u001b[1;34m(name, namespaces)\u001b[0m\n\u001b[0;32m    178\u001b[0m   entity \u001b[38;5;241m=\u001b[39m namespace[name]\n\u001b[0;32m    179\u001b[0m   \u001b[38;5;28;01mif\u001b[39;00m \u001b[38;5;129;01mnot\u001b[39;00m entity \u001b[38;5;129;01mis\u001b[39;00m \u001b[38;5;28;01mNone\u001b[39;00m: \u001b[38;5;28;01mreturn\u001b[39;00m entity\n\u001b[1;32m--> 181\u001b[0m \u001b[38;5;28;01mraise\u001b[39;00m \u001b[38;5;167;01mValueError\u001b[39;00m(\u001b[38;5;124m\"\u001b[39m\u001b[38;5;124mCannot find entity \u001b[39m\u001b[38;5;124m'\u001b[39m\u001b[38;5;132;01m%s\u001b[39;00m\u001b[38;5;124m'\u001b[39m\u001b[38;5;124m!\u001b[39m\u001b[38;5;124m\"\u001b[39m \u001b[38;5;241m%\u001b[39m name)\n",
      "\u001b[1;31mValueError\u001b[0m: Cannot find entity 'TVShowEngageUser'!"
     ]
    }
   ],
   "source": [
    "with onto:\n",
    "\n",
    "    class TVShowEngageUser(Thing):\n",
    "        # A tv show engages a user if the user has started watching the tv show, has watched at least one episode and has not stopped watching the tv show\n",
    "        # equivalent_to = [TVShow & (has_started.some(User) & has_watched.some(Episode) & Not(has_stopped.some(User)))]\n",
    "        rule1 = Imp()\n",
    "        rule1.set_as_rule('''\n",
    "            has_started(?user, ?tv_show),\n",
    "            has_watched(?user, ?episode)\n",
    "            -> TVShowEngageUser(?tv_show)''')\n",
    "\n",
    "sync_reasoner_pellet([onto], infer_property_values = True, infer_data_property_values = True, debug=True)\n",
    "\n",
    "print(f'Number of TV shows that engage a user: {len(onto.TVShowEngageUser.instances())} : ')\n",
    "for tv_show in onto.TVShowEngageUser.instances():\n",
    "    print(f'{tv_show.titre} engages a user')"
   ]
  },
  {
   "cell_type": "code",
   "execution_count": null,
   "metadata": {},
   "outputs": [],
   "source": []
  }
 ],
 "metadata": {
  "kernelspec": {
   "display_name": "Python 3",
   "language": "python",
   "name": "python3"
  },
  "language_info": {
   "codemirror_mode": {
    "name": "ipython",
    "version": 3
   },
   "file_extension": ".py",
   "mimetype": "text/x-python",
   "name": "python",
   "nbconvert_exporter": "python",
   "pygments_lexer": "ipython3",
   "version": "3.11.8"
  }
 },
 "nbformat": 4,
 "nbformat_minor": 2
}
