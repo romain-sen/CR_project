{
 "cells": [
  {
   "cell_type": "code",
   "execution_count": 1,
   "metadata": {},
   "outputs": [
    {
     "name": "stderr",
     "output_type": "stream",
     "text": [
      "* Owlready2 * Warning: optimized Cython parser module 'owlready2_optimized' is not available, defaulting to slower Python implementation\n"
     ]
    }
   ],
   "source": [
    "from owlready2 import Thing, get_ontology, AllDisjoint, sync_reasoner_pellet, Imp, FunctionalProperty\n",
    "from owlready2 import *\n",
    "\n",
    "# Create a new ontology\n",
    "onto = get_ontology(\"http://example.org/onto#\")\n",
    "\n",
    "# Define classes for the ontology based on the CSV file contents\n",
    "with onto:\n",
    "    class TVShow(Thing): pass\n",
    "    class Episode(Thing): pass\n",
    "    class User(Thing): pass\n",
    "    class Comment(Thing): pass\n",
    "    class Rating(Thing): pass\n",
    "    class Emotion(Thing): pass\n",
    "\n",
    "    # Define properties\n",
    "    # Define relationships\n",
    "    class posts(Comment >> User): pass\n",
    "    class comments_on(Comment >> Episode): pass\n",
    "    class follows(User >> TVShow): pass\n",
    "\n",
    "    class has_watched(User >> Episode): pass\n",
    "    class rated_by(Rating >> User): pass\n",
    "    class rates(Rating >> Episode): pass\n",
    "    class expressed_by(Emotion >> User): pass\n",
    "    class evokes(Emotion >> Episode):  pass\n",
    "\n"
   ]
  },
  {
   "cell_type": "code",
   "execution_count": 13,
   "metadata": {},
   "outputs": [],
   "source": [
    "import csv\n",
    "\n",
    "def load_data(filename, process_row):\n",
    "    with open(filename, 'rt', encoding='utf-8') as file:\n",
    "        reader = csv.DictReader(file, delimiter=',')\n",
    "        count = 0\n",
    "        for row in reader:\n",
    "            if count > 0 and count%100000 == 0:\n",
    "                print(f'Processed {count} rows')\n",
    "            process_row(row)\n",
    "            count += 1"
   ]
  },
  {
   "cell_type": "code",
   "execution_count": 15,
   "metadata": {},
   "outputs": [
    {
     "name": "stdout",
     "output_type": "stream",
     "text": [
      "Loaded 118 TV shows and 5239 episodes\n"
     ]
    }
   ],
   "source": [
    "import datetime\n",
    "\n",
    "def process_tv_shows_episodes(row):\n",
    "    tv_show = onto.search_one(iri=f\"{row['tv_show_name']}\")\n",
    "    if not tv_show:\n",
    "        tv_show = TVShow(name=row['tv_show_name'])\n",
    "\n",
    "    episode = onto.Episode(name=row['episode_id'])\n",
    "    episode.aPourSaison = int(row['episode_season_number'])\n",
    "    episode.aPourNumero = int(row['episode_number'])\n",
    "    episode.rewatchedCount = int(row['rewatched_count'])\n",
    "\n",
    "    episode.aPourDate = datetime.datetime.strptime(row['created_at'], '%Y-%m-%d %H:%M:%S').date()\n",
    "    # episode.aPourDate = datetime.strptime(row['created_at'], '%Y-%m-%d')\n",
    "\n",
    "path = './data/seen_episode_modified.csv'\n",
    "load_data(path, process_tv_shows_episodes)\n",
    "print(f'Loaded {len(onto.TVShow.instances())} TV shows and {len(onto.Episode.instances())} episodes')"
   ]
  },
  {
   "cell_type": "code",
   "execution_count": null,
   "metadata": {},
   "outputs": [],
   "source": []
  }
 ],
 "metadata": {
  "kernelspec": {
   "display_name": "Python 3",
   "language": "python",
   "name": "python3"
  },
  "language_info": {
   "codemirror_mode": {
    "name": "ipython",
    "version": 3
   },
   "file_extension": ".py",
   "mimetype": "text/x-python",
   "name": "python",
   "nbconvert_exporter": "python",
   "pygments_lexer": "ipython3",
   "version": "3.11.8"
  }
 },
 "nbformat": 4,
 "nbformat_minor": 2
}
