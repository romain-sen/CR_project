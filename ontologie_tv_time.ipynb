{
 "cells": [
  {
   "cell_type": "code",
   "execution_count": 1,
   "metadata": {},
   "outputs": [
    {
     "name": "stderr",
     "output_type": "stream",
     "text": [
      "* Owlready2 * Warning: optimized Cython parser module 'owlready2_optimized' is not available, defaulting to slower Python implementation\n"
     ]
    }
   ],
   "source": [
    "from owlready2 import Thing, get_ontology, AllDisjoint, sync_reasoner_pellet, Imp, FunctionalProperty\n",
    "from owlready2 import *\n",
    "\n",
    "# Create a new ontology\n",
    "onto = get_ontology(\"http://example.org/onto#\")\n",
    "\n",
    "# Define classes for the ontology based on the CSV file contents\n",
    "with onto:\n",
    "    class TVShow(Thing): pass\n",
    "    class Episode(Thing): pass\n",
    "    class User(Thing): pass\n",
    "    class Comment(Thing): pass\n",
    "    class Rating(Thing): pass\n",
    "    class Emotion(Thing): pass\n",
    "\n",
    "    # Define properties\n",
    "\n",
    "    # Define relationships\n",
    "    class posts(Comment >> User): pass\n",
    "\n",
    "    class comments_on(Comment >> Episode): pass\n",
    "    class follows(User >> TVShow): pass\n",
    "    class has_started(User >> TVShow): pass\n",
    "    class had_stopped(User >> TVShow): pass\n",
    "    class has_watched(User >> Episode): pass\n",
    "\n",
    "    class rated_by(Rating >> User): pass\n",
    "    class rates(Rating >> Episode): pass\n",
    "\n",
    "    class expressed_by(Emotion >> User): pass\n",
    "    class evokes(Emotion >> Episode):  pass\n",
    "\n"
   ]
  },
  {
   "cell_type": "code",
   "execution_count": 2,
   "metadata": {},
   "outputs": [],
   "source": [
    "import csv\n",
    "\n",
    "def load_data(filename, process_row):\n",
    "    with open(filename, 'rt', encoding='utf-8') as file:\n",
    "        reader = csv.DictReader(file, delimiter=',')\n",
    "        count = 0\n",
    "        for row in reader:\n",
    "            if count > 0 and count%100000 == 0:\n",
    "                print(f'Processed {count} rows')\n",
    "            process_row(row)\n",
    "            count += 1"
   ]
  },
  {
   "cell_type": "code",
   "execution_count": 3,
   "metadata": {},
   "outputs": [
    {
     "name": "stdout",
     "output_type": "stream",
     "text": [
      "Loaded 106 TV shows and 5227 episodes seen and 1 users\n"
     ]
    }
   ],
   "source": [
    "import datetime\n",
    "\n",
    "def process_tv_shows_episodes(row):\n",
    "    tv_show = onto.TVShow(name=row['tv_show_name'])\n",
    "    tv_show.titre = row['tv_show_name']\n",
    "\n",
    "    episode = onto.Episode(name=row['episode_id'])\n",
    "    episode.aPourSaison = int(row['episode_season_number'])\n",
    "    episode.aPourNumero = int(row['episode_number'])\n",
    "    episode.rewatchedCount = int(row['rewatched_count'])\n",
    "\n",
    "    episode.aPourDate = datetime.datetime.strptime(row['created_at'], '%Y-%m-%d %H:%M:%S').date()\n",
    "\n",
    "    user = onto.User(name=row['user_id'])\n",
    "    user.has_started.append(tv_show) # user has started watching the tv show because they have seen at least one episode\n",
    "    user.has_watched.append(episode) # user has watched the episode\n",
    "\n",
    "path = './data/seen_episode_modified.csv'\n",
    "load_data(path, process_tv_shows_episodes)\n",
    "print(f'Loaded {len(onto.TVShow.instances())} TV shows and {len(onto.Episode.instances())} episodes seen and {len(onto.User.instances())} users')"
   ]
  },
  {
   "cell_type": "code",
   "execution_count": 4,
   "metadata": {},
   "outputs": [
    {
     "name": "stdout",
     "output_type": "stream",
     "text": [
      "Loaded 339 ratings\n"
     ]
    }
   ],
   "source": [
    "def process_episodes_ratings(row):\n",
    "    episode = onto.Episode(name=row['episode_id'])\n",
    "    user = onto.User(name=row['user_id'])\n",
    "    rating = onto.Rating(name=row['vote_key'])\n",
    "    rating.note = int(row['note'])\n",
    "    rating.rated_by.append(user)\n",
    "    rating.rates.append(episode)\n",
    "    rating.aPourDate = datetime.datetime.strptime(row['created_at'], '%Y-%m-%d %H:%M:%S').date()\n",
    "\n",
    "path = './data/ratings_episode_votes_modified.csv'\n",
    "load_data(path, process_episodes_ratings)\n",
    "print(f'Loaded {len(onto.Rating.instances())} ratings')"
   ]
  },
  {
   "cell_type": "code",
   "execution_count": 5,
   "metadata": {},
   "outputs": [
    {
     "name": "stdout",
     "output_type": "stream",
     "text": [
      "Loaded 1 users and 119 TV shows\n"
     ]
    }
   ],
   "source": [
    "def process_tv_shows_followings(row):\n",
    "    tv_show = onto.TVShow(name=row['tv_show_name'])\n",
    "\n",
    "    user = onto.User(name=row['user_id'])\n",
    "    user.follows.append(tv_show)\n",
    "    if row['active'] == '0' or row['archived'] == '1': # user has stopped following the tv show\n",
    "        user.had_stopped.append(tv_show)\n",
    "\n",
    "path = './data/followed_tv_show_modified.csv'\n",
    "load_data(path, process_tv_shows_followings)\n",
    "print(f'Loaded {len(onto.User.instances())} users and {len(onto.TVShow.instances())} TV shows')"
   ]
  },
  {
   "cell_type": "code",
   "execution_count": 6,
   "metadata": {},
   "outputs": [
    {
     "name": "stdout",
     "output_type": "stream",
     "text": [
      "Loaded 35 comments\n"
     ]
    }
   ],
   "source": [
    "def process_episodes_comments(row):\n",
    "    episode = onto.Episode(name=row['episode_id'])\n",
    "    user = onto.User(name=row['user_id'])\n",
    "    comment = onto.Comment(name=row['comment_id'])\n",
    "    comment.contenu = row['comment']\n",
    "    comment.posts.append(user)\n",
    "    comment.comments_on.append(episode)\n",
    "    comment.aPourDate = datetime.datetime.strptime(row['created_at'], '%Y-%m-%d %H:%M:%S').date()\n",
    "\n",
    "path = './data/episode_comment_modified.csv'\n",
    "load_data(path, process_episodes_comments)\n",
    "print(f'Loaded {len(onto.Comment.instances())} comments')"
   ]
  },
  {
   "cell_type": "code",
   "execution_count": 9,
   "metadata": {},
   "outputs": [
    {
     "name": "stdout",
     "output_type": "stream",
     "text": [
      "Loaded 342 emotions\n"
     ]
    }
   ],
   "source": [
    "def process_episodes_emotions(row):\n",
    "    episode = onto.Episode(name=row['episode_id'])\n",
    "    user = onto.User(name=row['user_id'])\n",
    "    emotion = onto.Emotion(name=row['emotion_vote_id'])\n",
    "    emotion.emotion = row['emotion_id']\n",
    "    emotion.expressed_by.append(user)\n",
    "    emotion.evokes.append(episode)\n",
    "    emotion.aPourDate = datetime.datetime.strptime(row['created_at'], '%Y-%m-%d %H:%M:%S').date()\n",
    "\n",
    "path = './data/emotions_episode_votes_modified.csv'\n",
    "load_data(path, process_episodes_emotions)\n",
    "print(f'Loaded {len(onto.Emotion.instances())} emotions')"
   ]
  },
  {
   "cell_type": "code",
   "execution_count": null,
   "metadata": {},
   "outputs": [],
   "source": []
  }
 ],
 "metadata": {
  "kernelspec": {
   "display_name": "Python 3",
   "language": "python",
   "name": "python3"
  },
  "language_info": {
   "codemirror_mode": {
    "name": "ipython",
    "version": 3
   },
   "file_extension": ".py",
   "mimetype": "text/x-python",
   "name": "python",
   "nbconvert_exporter": "python",
   "pygments_lexer": "ipython3",
   "version": "3.11.8"
  }
 },
 "nbformat": 4,
 "nbformat_minor": 2
}
