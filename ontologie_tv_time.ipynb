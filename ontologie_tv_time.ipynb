{
 "cells": [
  {
   "cell_type": "code",
   "execution_count": 1,
   "metadata": {},
   "outputs": [
    {
     "name": "stderr",
     "output_type": "stream",
     "text": [
      "* Owlready2 * Warning: optimized Cython parser module 'owlready2_optimized' is not available, defaulting to slower Python implementation\n"
     ]
    }
   ],
   "source": [
    "from owlready2 import Thing, get_ontology, AllDisjoint, sync_reasoner_pellet, Imp, FunctionalProperty\n",
    "from owlready2 import *\n",
    "\n",
    "# Create a new ontology\n",
    "onto = get_ontology(\"http://example.org/onto#\")\n",
    "\n",
    "# Define classes for the ontology based on the CSV file contents\n",
    "with onto:\n",
    "    class TVShow(Thing): pass\n",
    "    class Episode(Thing): pass\n",
    "    class User(Thing): pass\n",
    "    class Comment(Thing): pass\n",
    "    class Rating(Thing): pass\n",
    "    class Emotion(Thing): pass\n",
    "\n",
    "    # Define properties\n",
    "    class aPourTitre(TVShow >> str, FunctionalProperty): pass\n",
    "\n",
    "    class aPourTVShow(Episode >> TVShow, FunctionalProperty): pass\n",
    "    class aPourSaison(Episode >> int, FunctionalProperty): pass\n",
    "    class aPourNumero(Episode >> int, FunctionalProperty): pass\n",
    "    class rewatchedCount(Episode >> int, FunctionalProperty): pass\n",
    "    # class aPourDate(Episode >> str, FunctionalProperty): pass\n",
    "    class aPourAnnee(Episode >> int, FunctionalProperty): pass\n",
    "    class aPourMois(Episode >> int, FunctionalProperty): pass\n",
    "\n",
    "    class aPourNote(Rating >> int, FunctionalProperty): pass\n",
    "    # class aPourDate(Rating >> str, FunctionalProperty): pass\n",
    "\n",
    "    class aPourContenu(Comment >> str, FunctionalProperty): pass\n",
    "    # class aPourDate(Comment >> str, FunctionalProperty): pass\n",
    "    \n",
    "    class aPourEmotion(Emotion >> str, FunctionalProperty): pass\n",
    "    # class aPourDate(Emotion >> str, FunctionalProperty): pass\n",
    "    \n",
    "    # Define relationships\n",
    "    class posts_by(Comment >> User): pass\n",
    "\n",
    "    class comments_on(Comment >> Episode): pass\n",
    "    class follows(User >> TVShow): pass\n",
    "    class has_started(User >> TVShow): pass\n",
    "    class had_stopped(User >> TVShow): pass\n",
    "    class has_watched(User >> Episode): pass\n",
    "\n",
    "    class rated_by(Rating >> User): pass\n",
    "    class rates(Rating >> Episode): pass\n",
    "\n",
    "    class expressed_by(Emotion >> User): pass\n",
    "    class evokes(Emotion >> Episode):  pass\n",
    "\n"
   ]
  },
  {
   "cell_type": "code",
   "execution_count": 2,
   "metadata": {},
   "outputs": [],
   "source": [
    "import csv\n",
    "\n",
    "def load_data(filename, process_row):\n",
    "    with open(filename, 'rt', encoding='utf-8') as file:\n",
    "        reader = csv.DictReader(file, delimiter=',')\n",
    "        count = 0\n",
    "        for row in reader:\n",
    "            if count > 0 and count%100000 == 0:\n",
    "                print(f'Processed {count} rows')\n",
    "            process_row(row)\n",
    "            count += 1"
   ]
  },
  {
   "cell_type": "code",
   "execution_count": 3,
   "metadata": {},
   "outputs": [
    {
     "name": "stdout",
     "output_type": "stream",
     "text": [
      "Loaded 106 TV shows and 5227 episodes seen and 1 users\n"
     ]
    }
   ],
   "source": [
    "import datetime\n",
    "\n",
    "def process_tv_shows_episodes(row):\n",
    "    tv_show = onto.TVShow(name=row['tv_show_name'])\n",
    "    tv_show.aPourTitre = row['tv_show_name']\n",
    "\n",
    "    episode = onto.Episode(name=row['episode_id'])\n",
    "    episode.aPourTVShow = tv_show\n",
    "    episode.aPourSaison = int(row['episode_season_number'])\n",
    "    episode.aPourNumero = int(row['episode_number'])\n",
    "    episode.rewatchedCount = int(row['rewatched_count'])\n",
    "    # episode.aPourDate = str(datetime.datetime.strptime(row['created_at'], '%Y-%m-%d %H:%M:%S').date()) # cast datetime to string to avoid error\n",
    "    date = datetime.datetime.strptime(row['created_at'], '%Y-%m-%d %H:%M:%S')\n",
    "    annee = date.year\n",
    "    episode.aPourAnnee = int(annee)\n",
    "    mois = date.month\n",
    "    episode.aPourMois = int(mois)\n",
    "\n",
    "    user = onto.User(name=row['user_id'])\n",
    "    user.has_started.append(tv_show) # user has started watching the tv show because they have seen at least one episode\n",
    "    user.has_watched.append(episode) # user has watched the episode\n",
    "\n",
    "path = './data/seen_episode_modified.csv'\n",
    "load_data(path, process_tv_shows_episodes)\n",
    "print(f'Loaded {len(onto.TVShow.instances())} TV shows and {len(onto.Episode.instances())} episodes seen and {len(onto.User.instances())} users')"
   ]
  },
  {
   "cell_type": "code",
   "execution_count": 4,
   "metadata": {},
   "outputs": [
    {
     "name": "stdout",
     "output_type": "stream",
     "text": [
      "Loaded 339 ratings\n"
     ]
    }
   ],
   "source": [
    "def process_episodes_ratings(row):\n",
    "    episode = onto.Episode(name=row['episode_id'])\n",
    "    user = onto.User(name=row['user_id'])\n",
    "    rating = onto.Rating(name=row['vote_key'])\n",
    "    rating.aPourNote = int(row['note'])\n",
    "    # rating.aPourDate = str(datetime.datetime.strptime(row['created_at'], '%Y-%m-%d %H:%M:%S').date()) # cast datetime to string to avoid error\n",
    "\n",
    "    rating.rated_by.append(user)\n",
    "    rating.rates.append(episode)\n",
    "\n",
    "path = './data/ratings_episode_votes_modified.csv'\n",
    "load_data(path, process_episodes_ratings)\n",
    "print(f'Loaded {len(onto.Rating.instances())} ratings')"
   ]
  },
  {
   "cell_type": "code",
   "execution_count": 5,
   "metadata": {},
   "outputs": [
    {
     "name": "stdout",
     "output_type": "stream",
     "text": [
      "Loaded 1 users and 119 TV shows\n"
     ]
    }
   ],
   "source": [
    "def process_tv_shows_followings(row):\n",
    "    tv_show = onto.TVShow(name=row['tv_show_name'])\n",
    "\n",
    "    user = onto.User(name=row['user_id'])\n",
    "    user.follows.append(tv_show)\n",
    "    if row['active'] == '0' or row['archived'] == '1': # user has stopped following the tv show\n",
    "        user.had_stopped.append(tv_show)\n",
    "\n",
    "path = './data/followed_tv_show_modified.csv'\n",
    "load_data(path, process_tv_shows_followings)\n",
    "print(f'Loaded {len(onto.User.instances())} users and {len(onto.TVShow.instances())} TV shows')"
   ]
  },
  {
   "cell_type": "code",
   "execution_count": 6,
   "metadata": {},
   "outputs": [
    {
     "name": "stdout",
     "output_type": "stream",
     "text": [
      "Loaded 35 comments\n"
     ]
    }
   ],
   "source": [
    "def process_episodes_comments(row):\n",
    "    episode = onto.Episode(name=row['episode_id'])\n",
    "    user = onto.User(name=row['user_id'])\n",
    "    comment = onto.Comment(name=row['comment_id'])\n",
    "    comment.aPourContenu = row['comment']\n",
    "    # comment.aPourDate = str(datetime.datetime.strptime(row['created_at'], '%Y-%m-%d %H:%M:%S').date()) # cast datetime to string to avoid error\n",
    "\n",
    "    comment.posts_by.append(user)\n",
    "    comment.comments_on.append(episode)\n",
    "\n",
    "path = './data/episode_comment_modified.csv'\n",
    "load_data(path, process_episodes_comments)\n",
    "print(f'Loaded {len(onto.Comment.instances())} comments')"
   ]
  },
  {
   "cell_type": "code",
   "execution_count": 7,
   "metadata": {},
   "outputs": [
    {
     "name": "stdout",
     "output_type": "stream",
     "text": [
      "Loaded 341 emotions\n"
     ]
    }
   ],
   "source": [
    "def process_episodes_emotions(row):\n",
    "    episode = onto.Episode(name=row['episode_id'])\n",
    "    user = onto.User(name=row['user_id'])\n",
    "    emotion = onto.Emotion(name=row['emotion_vote_id'])\n",
    "    emotion.aPourEmotion = row['emotion_id']\n",
    "    # emotion.aPourDate = str(datetime.datetime.strptime(row['created_at'], '%Y-%m-%d %H:%M:%S').date())\n",
    "    emotion.expressed_by.append(user)\n",
    "    emotion.evokes.append(episode)\n",
    "\n",
    "path = './data/emotions_episode_votes_modified.csv'\n",
    "load_data(path, process_episodes_emotions)\n",
    "print(f'Loaded {len(onto.Emotion.instances())} emotions')"
   ]
  },
  {
   "cell_type": "code",
   "execution_count": 8,
   "metadata": {},
   "outputs": [
    {
     "name": "stderr",
     "output_type": "stream",
     "text": [
      "* Owlready2 * Running Pellet...\n",
      "    java -Xmx2000M -cp C:\\Users\\romai\\AppData\\Local\\Packages\\PythonSoftwareFoundation.Python.3.11_qbz5n2kfra8p0\\LocalCache\\local-packages\\Python311\\site-packages\\owlready2\\pellet\\antlr-3.2.jar;C:\\Users\\romai\\AppData\\Local\\Packages\\PythonSoftwareFoundation.Python.3.11_qbz5n2kfra8p0\\LocalCache\\local-packages\\Python311\\site-packages\\owlready2\\pellet\\antlr-runtime-3.2.jar;C:\\Users\\romai\\AppData\\Local\\Packages\\PythonSoftwareFoundation.Python.3.11_qbz5n2kfra8p0\\LocalCache\\local-packages\\Python311\\site-packages\\owlready2\\pellet\\aterm-java-1.6.jar;C:\\Users\\romai\\AppData\\Local\\Packages\\PythonSoftwareFoundation.Python.3.11_qbz5n2kfra8p0\\LocalCache\\local-packages\\Python311\\site-packages\\owlready2\\pellet\\commons-codec-1.6.jar;C:\\Users\\romai\\AppData\\Local\\Packages\\PythonSoftwareFoundation.Python.3.11_qbz5n2kfra8p0\\LocalCache\\local-packages\\Python311\\site-packages\\owlready2\\pellet\\httpclient-4.2.3.jar;C:\\Users\\romai\\AppData\\Local\\Packages\\PythonSoftwareFoundation.Python.3.11_qbz5n2kfra8p0\\LocalCache\\local-packages\\Python311\\site-packages\\owlready2\\pellet\\httpcore-4.2.2.jar;C:\\Users\\romai\\AppData\\Local\\Packages\\PythonSoftwareFoundation.Python.3.11_qbz5n2kfra8p0\\LocalCache\\local-packages\\Python311\\site-packages\\owlready2\\pellet\\jcl-over-slf4j-1.6.4.jar;C:\\Users\\romai\\AppData\\Local\\Packages\\PythonSoftwareFoundation.Python.3.11_qbz5n2kfra8p0\\LocalCache\\local-packages\\Python311\\site-packages\\owlready2\\pellet\\jena-arq-2.10.0.jar;C:\\Users\\romai\\AppData\\Local\\Packages\\PythonSoftwareFoundation.Python.3.11_qbz5n2kfra8p0\\LocalCache\\local-packages\\Python311\\site-packages\\owlready2\\pellet\\jena-core-2.10.0.jar;C:\\Users\\romai\\AppData\\Local\\Packages\\PythonSoftwareFoundation.Python.3.11_qbz5n2kfra8p0\\LocalCache\\local-packages\\Python311\\site-packages\\owlready2\\pellet\\jena-iri-0.9.5.jar;C:\\Users\\romai\\AppData\\Local\\Packages\\PythonSoftwareFoundation.Python.3.11_qbz5n2kfra8p0\\LocalCache\\local-packages\\Python311\\site-packages\\owlready2\\pellet\\jena-tdb-0.10.0.jar;C:\\Users\\romai\\AppData\\Local\\Packages\\PythonSoftwareFoundation.Python.3.11_qbz5n2kfra8p0\\LocalCache\\local-packages\\Python311\\site-packages\\owlready2\\pellet\\jgrapht-jdk1.5.jar;C:\\Users\\romai\\AppData\\Local\\Packages\\PythonSoftwareFoundation.Python.3.11_qbz5n2kfra8p0\\LocalCache\\local-packages\\Python311\\site-packages\\owlready2\\pellet\\log4j-1.2-api-2.19.0.jar;C:\\Users\\romai\\AppData\\Local\\Packages\\PythonSoftwareFoundation.Python.3.11_qbz5n2kfra8p0\\LocalCache\\local-packages\\Python311\\site-packages\\owlready2\\pellet\\log4j-api-2.19.0.jar;C:\\Users\\romai\\AppData\\Local\\Packages\\PythonSoftwareFoundation.Python.3.11_qbz5n2kfra8p0\\LocalCache\\local-packages\\Python311\\site-packages\\owlready2\\pellet\\log4j-core-2.19.0.jar;C:\\Users\\romai\\AppData\\Local\\Packages\\PythonSoftwareFoundation.Python.3.11_qbz5n2kfra8p0\\LocalCache\\local-packages\\Python311\\site-packages\\owlready2\\pellet\\owlapi-distribution-3.4.3-bin.jar;C:\\Users\\romai\\AppData\\Local\\Packages\\PythonSoftwareFoundation.Python.3.11_qbz5n2kfra8p0\\LocalCache\\local-packages\\Python311\\site-packages\\owlready2\\pellet\\pellet-2.3.1.jar;C:\\Users\\romai\\AppData\\Local\\Packages\\PythonSoftwareFoundation.Python.3.11_qbz5n2kfra8p0\\LocalCache\\local-packages\\Python311\\site-packages\\owlready2\\pellet\\slf4j-api-1.6.4.jar;C:\\Users\\romai\\AppData\\Local\\Packages\\PythonSoftwareFoundation.Python.3.11_qbz5n2kfra8p0\\LocalCache\\local-packages\\Python311\\site-packages\\owlready2\\pellet\\slf4j-log4j12-1.6.4.jar;C:\\Users\\romai\\AppData\\Local\\Packages\\PythonSoftwareFoundation.Python.3.11_qbz5n2kfra8p0\\LocalCache\\local-packages\\Python311\\site-packages\\owlready2\\pellet\\xercesImpl-2.10.0.jar;C:\\Users\\romai\\AppData\\Local\\Packages\\PythonSoftwareFoundation.Python.3.11_qbz5n2kfra8p0\\LocalCache\\local-packages\\Python311\\site-packages\\owlready2\\pellet\\xml-apis-1.4.01.jar pellet.Pellet realize --loader Jena --input-format N-Triples --infer-prop-values --infer-data-prop-values --ignore-imports C:\\Users\\romai\\AppData\\Local\\Temp\\tmpbdy7jywa\n",
      "* Owlready2 * Pellet took 2.1011319160461426 seconds\n"
     ]
    },
    {
     "name": "stdout",
     "output_type": "stream",
     "text": [
      "* Owlready * Adding relation onto.34759499 aPourContenu Damn, Stephan breaking the circle of violence was breathtaking\\°46 respect bruv\n",
      "* Owlready * Adding relation onto.32426747 aPourContenu So sad we don\\°31t see Kim and Nicholas sitting together in the bar and talking as friends \\?75\\?42 I would have shed a tear\n",
      "* Owlready * Adding relation onto.33337268 aPourContenu I\\°31m starting to get bored but what a plot it would be to see zacarias destroying the trafiquants because they try to black mail him\n",
      "* Owlready * Adding relation onto.32406536 aPourContenu Damn who is spying who it\\°31s more complicated that I thought\n",
      "* Owlready * Adding relation onto.32606931 aPourContenu I love so much the mentality : they are all awesome but there also all fans of each other and they respect everyone some much I love this sport\\°31s mentality !\n",
      "* Owlready * Adding relation onto.33012136 aPourContenu This guy is like the embodiment of wisdom \\?75\\?55\n",
      "* Owlready * Adding relation onto.31913600 aPourContenu I know I am starting a bit late but damn, first episode and we\\°31re so in it ! I mean we know there\\°31s something secret and dark with the direction, there is a enigma that a scary dude try to solve and there are new bugs that make the robot to kinda revolt\\°46 spicy\n",
      "* Owlready * Adding relation onto.31616851 aPourContenu That was one of the saddest show episodes I ever seen \\?75\\?42\n",
      "* Owlready * Adding relation onto.31440434 aPourContenu That\\°31s rare to have a show with smarts and logic scenarios, it changes from usual show with kids doing the stupidest decision all time just to continue the show. I love Ozarks !!\n",
      "* Owlready * Adding relation onto.33944073 aPourContenu Noooooo don\\°31t stoppppp !!!\n",
      "* Owlready * Adding relation onto.31403030 aPourContenu It\\°31s so frustrating to see how easy it could have been to arrest this guy but they didn\\°31t\\°46\n",
      "* Owlready * Adding relation onto.33025590 aPourContenu My poor guy, he\\°31ll never clear his name \\?75\\?55\n",
      "* Owlready * Adding relation onto.32621287 aPourContenu Bbulkup made me laugh so hard I love that guy! I first thought he was so arrogant but then when he said \\253\\240of course I have regret, please do a season 2 or 3\\240\\273 I realized he just was so funny and was here to get fun \\?75\\?55\n",
      "* Owlready * Adding relation onto.32847523 aPourContenu I really was sad when he bought the drugs thinking he was going mad\\°46 and then \\?76\\?51\n",
      "* Owlready * Adding relation onto.33033320 aPourContenu That was such a bold move from\\nRose\n",
      "* Owlready * Adding relation onto.33944060 aPourContenu Ohhhh he knows what he\\°31s doing\n",
      "* Owlready * Adding relation onto.32171243 aPourContenu Please where can I vote for Taylor for this episode \\?75\\?55\\?75\\?55\n",
      "* Owlready * Adding relation onto.34666001 aPourContenu \\253\\240he has been killed too\\240fast\\240\\273 but guys, we\\°31re talking about sully. That\\°31s suprising the guy isn\\°31t dead in the first episode when he pissed of Sully\n",
      "* Owlready * Adding relation onto.31382081 aPourContenu Wow, what a surprise ! The plan of silver is to become not only the champion of the valley but also of the world ?! \\nCouldn\\°31t have guess that\\°46 \\?75\\?17\\?75\\?17\n",
      "* Owlready * Adding relation onto.34024327 aPourContenu This documentary is so great because we all know Arnold\\°31s exploits, that he is the best on so many things\\°46 but the gold is his mindset \\Ì50\\nHe really have his head on his shoulder I love it\n",
      "* Owlready * Adding relation onto.33237592 aPourContenu Again these fucking empty weapon boxes instead of the gold \\?75\\?55\n"
     ]
    },
    {
     "name": "stderr",
     "output_type": "stream",
     "text": [
      "* Owlready * (NB: only changes on entities loaded in Python are shown, other changes are done but not listed)\n"
     ]
    }
   ],
   "source": [
    "sync_reasoner_pellet([onto], infer_property_values = True, infer_data_property_values = True, debug=True)"
   ]
  },
  {
   "cell_type": "code",
   "execution_count": 9,
   "metadata": {},
   "outputs": [],
   "source": [
    "onto.save(file = \"tvtime_ontology.owl\", format = \"rdfxml\")"
   ]
  },
  {
   "cell_type": "code",
   "execution_count": null,
   "metadata": {},
   "outputs": [],
   "source": []
  }
 ],
 "metadata": {
  "kernelspec": {
   "display_name": "Python 3",
   "language": "python",
   "name": "python3"
  },
  "language_info": {
   "codemirror_mode": {
    "name": "ipython",
    "version": 3
   },
   "file_extension": ".py",
   "mimetype": "text/x-python",
   "name": "python",
   "nbconvert_exporter": "python",
   "pygments_lexer": "ipython3",
   "version": "3.11.8"
  }
 },
 "nbformat": 4,
 "nbformat_minor": 2
}
