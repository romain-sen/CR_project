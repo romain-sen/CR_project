{
 "cells": [
  {
   "cell_type": "code",
   "execution_count": 1,
   "metadata": {},
   "outputs": [
    {
     "name": "stderr",
     "output_type": "stream",
     "text": [
      "* Owlready2 * Warning: optimized Cython parser module 'owlready2_optimized' is not available, defaulting to slower Python implementation\n"
     ]
    }
   ],
   "source": [
    "\n",
    "from owlready2 import Thing, get_ontology, AllDisjoint, sync_reasoner_pellet, Imp, FunctionalProperty\n",
    "from owlready2 import *\n",
    "\n",
    "# Create a new ontology\n",
    "onto = get_ontology(\"http://example.org/onto#\")\n",
    "\n",
    "# Define classes for the ontology based on the CSV file contents\n",
    "with onto:\n",
    "    class TVShow(Thing): pass\n",
    "    class Episode(Thing): pass\n",
    "    class User(Thing): pass\n",
    "    class Comment(Thing): pass\n",
    "    class Rating(Thing): pass\n",
    "    class Emotion(Thing): pass\n",
    "\n",
    "    # Define properties\n",
    "    class aPourTitre(TVShow >> str, FunctionalProperty): pass\n",
    "\n",
    "    class aPourTVShow(Episode >> TVShow, FunctionalProperty): pass\n",
    "    class aPourSaison(Episode >> int, FunctionalProperty): pass\n",
    "    class aPourNumero(Episode >> int, FunctionalProperty): pass\n",
    "    class rewatchedCount(Episode >> int, FunctionalProperty): pass\n",
    "    # class aPourDate(Episode >> str, FunctionalProperty): pass\n",
    "    class aPourAnnee(Episode >> int, FunctionalProperty): pass\n",
    "    class aPourMois(Episode >> int, FunctionalProperty): pass\n",
    "\n",
    "    class aPourNote(Rating >> int, FunctionalProperty): pass\n",
    "    # class aPourDate(Rating >> str, FunctionalProperty): pass\n",
    "\n",
    "    class aPourContenu(Comment >> str, FunctionalProperty): pass\n",
    "    class nbLikes(Comment >> int, FunctionalProperty): pass\n",
    "    # class aPourDate(Comment >> str, FunctionalProperty): pass\n",
    "    \n",
    "    class aPourEmotion(Emotion >> str, FunctionalProperty): pass\n",
    "    # class aPourDate(Emotion >> str, FunctionalProperty): pass\n",
    "    \n",
    "    # Define relationships\n",
    "    class is_episode_of(Episode >> TVShow): pass\n",
    "    \n",
    "    class posts_by(Comment >> User): pass\n",
    "    class user_posts_comment(User >> Comment):\n",
    "        inverse = posts_by\n",
    "    class comments_on(Comment >> Episode): pass\n",
    "    class is_commented_on_by(Episode >> Comment):\n",
    "        inverse = comments_on\n",
    "\n",
    "    \n",
    "    class follows(User >> TVShow): pass\n",
    "    class has_started(User >> TVShow): pass\n",
    "    class has_stopped(User >> TVShow): pass\n",
    "    class is_stopped_by(TVShow >> User): \n",
    "        inverse = has_stopped\n",
    "    class has_watched(User >> Episode): pass\n",
    "\n",
    "    class rated_by_user(Rating >> User): pass\n",
    "    class user_rates(User >> Rating):\n",
    "        inverse = rated_by_user\n",
    "    class rates_episodes(Rating >> Episode): pass\n",
    "    class is_rated_by(Episode >> Rating):\n",
    "        inverse = rates_episodes\n",
    "\n",
    "    class expressed_by(Emotion >> User): pass\n",
    "    class user_expresses(User >> Emotion):\n",
    "        inverse = expressed_by\n",
    "    class evokes(Emotion >> Episode):  pass\n",
    "    class is_evoked_by(Episode >> Emotion):\n",
    "        inverse = evokes"
   ]
  },
  {
   "cell_type": "code",
   "execution_count": 2,
   "metadata": {},
   "outputs": [],
   "source": [
    "import csv\n",
    "\n",
    "def load_data(filename, process_row):\n",
    "    with open(filename, 'rt', encoding='utf-8') as file:\n",
    "        reader = csv.DictReader(file, delimiter=',')\n",
    "        count = 0\n",
    "        for row in reader:\n",
    "            if count > 0 and count%100000 == 0:\n",
    "                print(f'Processed {count} rows')\n",
    "            process_row(row)\n",
    "            count += 1"
   ]
  },
  {
   "cell_type": "code",
   "execution_count": 3,
   "metadata": {},
   "outputs": [
    {
     "name": "stdout",
     "output_type": "stream",
     "text": [
      "Loaded 106 TV shows and 5227 episodes seen and 1 users\n"
     ]
    }
   ],
   "source": [
    "import datetime\n",
    "\n",
    "def process_tv_shows_episodes(row):\n",
    "    tv_show = onto.TVShow(name=row['tv_show_name'])\n",
    "    tv_show.aPourTitre = row['tv_show_name']\n",
    "\n",
    "    episode = onto.Episode(name=row['episode_id'])\n",
    "    episode.aPourTVShow = tv_show\n",
    "    episode.is_episode_of.append(tv_show)\n",
    "    episode.aPourSaison = int(row['episode_season_number'])\n",
    "    episode.aPourNumero = int(row['episode_number'])\n",
    "    episode.rewatchedCount = int(row['rewatched_count'])\n",
    "    # episode.aPourDate = str(datetime.datetime.strptime(row['created_at'], '%Y-%m-%d %H:%M:%S').date()) # cast datetime to string to avoid error\n",
    "    date = datetime.datetime.strptime(row['created_at'], '%Y-%m-%d %H:%M:%S')\n",
    "    annee = date.year\n",
    "    episode.aPourAnnee = int(annee)\n",
    "    mois = date.month\n",
    "    episode.aPourMois = int(mois)\n",
    "\n",
    "    user = onto.User(name=row['user_id'])\n",
    "    user.has_started.append(tv_show) # user has started watching the tv show because they have seen at least one episode\n",
    "    user.has_watched.append(episode) # user has watched the episode\n",
    "\n",
    "path = './data/seen_episode_modified.csv'\n",
    "load_data(path, process_tv_shows_episodes)\n",
    "print(f'Loaded {len(onto.TVShow.instances())} TV shows and {len(onto.Episode.instances())} episodes seen and {len(onto.User.instances())} users')"
   ]
  },
  {
   "cell_type": "code",
   "execution_count": 4,
   "metadata": {},
   "outputs": [
    {
     "name": "stdout",
     "output_type": "stream",
     "text": [
      "Loaded 339 ratings\n"
     ]
    }
   ],
   "source": [
    "def process_episodes_ratings(row):\n",
    "    episode = onto.Episode(name=row['episode_id'])\n",
    "    user = onto.User(name=row['user_id'])\n",
    "    rating = onto.Rating(name=row['vote_key'])\n",
    "    rating.aPourNote = int(row['note'])\n",
    "    # rating.aPourDate = str(datetime.datetime.strptime(row['created_at'], '%Y-%m-%d %H:%M:%S').date()) # cast datetime to string to avoid error\n",
    "\n",
    "    rating.rated_by_user.append(user)\n",
    "    rating.rates_episodes.append(episode)\n",
    "\n",
    "path = './data/ratings_episode_votes_modified.csv'\n",
    "load_data(path, process_episodes_ratings)\n",
    "print(f'Loaded {len(onto.Rating.instances())} ratings')"
   ]
  },
  {
   "cell_type": "code",
   "execution_count": 5,
   "metadata": {},
   "outputs": [
    {
     "name": "stdout",
     "output_type": "stream",
     "text": [
      "Loaded 1 users and 119 TV shows\n"
     ]
    }
   ],
   "source": [
    "def process_tv_shows_followings(row):\n",
    "    tv_show = onto.TVShow(name=row['tv_show_name'])\n",
    "    tv_show.aPourTitre = row['tv_show_name']\n",
    "\n",
    "    user = onto.User(name=row['user_id'])\n",
    "    user.follows.append(tv_show)\n",
    "    if row['active'] == '0' or row['archived'] == '1': # user has stopped following the tv show\n",
    "        user.has_stopped.append(tv_show)\n",
    "\n",
    "path = './data/followed_tv_show_modified.csv'\n",
    "load_data(path, process_tv_shows_followings)\n",
    "print(f'Loaded {len(onto.User.instances())} users and {len(onto.TVShow.instances())} TV shows')"
   ]
  },
  {
   "cell_type": "code",
   "execution_count": 6,
   "metadata": {},
   "outputs": [
    {
     "name": "stdout",
     "output_type": "stream",
     "text": [
      "Loaded 35 comments\n"
     ]
    }
   ],
   "source": [
    "def process_episodes_comments(row):\n",
    "    episode = onto.Episode(name=row['episode_id'])\n",
    "    user = onto.User(name=row['user_id'])\n",
    "    comment = onto.Comment(name=row['comment_id'])\n",
    "    comment.aPourContenu = row['comment']\n",
    "    comment.nbLikes = int(row['nb_likes'])\n",
    "    # comment.aPourDate = str(datetime.datetime.strptime(row['created_at'], '%Y-%m-%d %H:%M:%S').date()) # cast datetime to string to avoid error\n",
    "\n",
    "    comment.posts_by.append(user)\n",
    "    comment.comments_on.append(episode)\n",
    "\n",
    "path = './data/episode_comment_modified.csv'\n",
    "load_data(path, process_episodes_comments)\n",
    "print(f'Loaded {len(onto.Comment.instances())} comments')"
   ]
  },
  {
   "cell_type": "code",
   "execution_count": 7,
   "metadata": {},
   "outputs": [
    {
     "name": "stdout",
     "output_type": "stream",
     "text": [
      "Loaded 341 emotions\n"
     ]
    }
   ],
   "source": [
    "def process_episodes_emotions(row):\n",
    "    episode = onto.Episode(name=row['episode_id'])\n",
    "    user = onto.User(name=row['user_id'])\n",
    "    emotion = onto.Emotion(name=row['emotion_vote_id'])\n",
    "    emotion.aPourEmotion = row['emotion_id']\n",
    "    # emotion.aPourDate = str(datetime.datetime.strptime(row['created_at'], '%Y-%m-%d %H:%M:%S').date())\n",
    "    emotion.expressed_by.append(user)\n",
    "    emotion.evokes.append(episode)\n",
    "\n",
    "path = './data/emotions_episode_votes_modified.csv'\n",
    "load_data(path, process_episodes_emotions)\n",
    "print(f'Loaded {len(onto.Emotion.instances())} emotions')"
   ]
  },
  {
   "cell_type": "code",
   "execution_count": 8,
   "metadata": {},
   "outputs": [
    {
     "name": "stderr",
     "output_type": "stream",
     "text": [
      "* Owlready2 * Running Pellet...\n",
      "    java -Xmx2000M -cp C:\\Users\\romai\\AppData\\Local\\Packages\\PythonSoftwareFoundation.Python.3.11_qbz5n2kfra8p0\\LocalCache\\local-packages\\Python311\\site-packages\\owlready2\\pellet\\antlr-3.2.jar;C:\\Users\\romai\\AppData\\Local\\Packages\\PythonSoftwareFoundation.Python.3.11_qbz5n2kfra8p0\\LocalCache\\local-packages\\Python311\\site-packages\\owlready2\\pellet\\antlr-runtime-3.2.jar;C:\\Users\\romai\\AppData\\Local\\Packages\\PythonSoftwareFoundation.Python.3.11_qbz5n2kfra8p0\\LocalCache\\local-packages\\Python311\\site-packages\\owlready2\\pellet\\aterm-java-1.6.jar;C:\\Users\\romai\\AppData\\Local\\Packages\\PythonSoftwareFoundation.Python.3.11_qbz5n2kfra8p0\\LocalCache\\local-packages\\Python311\\site-packages\\owlready2\\pellet\\commons-codec-1.6.jar;C:\\Users\\romai\\AppData\\Local\\Packages\\PythonSoftwareFoundation.Python.3.11_qbz5n2kfra8p0\\LocalCache\\local-packages\\Python311\\site-packages\\owlready2\\pellet\\httpclient-4.2.3.jar;C:\\Users\\romai\\AppData\\Local\\Packages\\PythonSoftwareFoundation.Python.3.11_qbz5n2kfra8p0\\LocalCache\\local-packages\\Python311\\site-packages\\owlready2\\pellet\\httpcore-4.2.2.jar;C:\\Users\\romai\\AppData\\Local\\Packages\\PythonSoftwareFoundation.Python.3.11_qbz5n2kfra8p0\\LocalCache\\local-packages\\Python311\\site-packages\\owlready2\\pellet\\jcl-over-slf4j-1.6.4.jar;C:\\Users\\romai\\AppData\\Local\\Packages\\PythonSoftwareFoundation.Python.3.11_qbz5n2kfra8p0\\LocalCache\\local-packages\\Python311\\site-packages\\owlready2\\pellet\\jena-arq-2.10.0.jar;C:\\Users\\romai\\AppData\\Local\\Packages\\PythonSoftwareFoundation.Python.3.11_qbz5n2kfra8p0\\LocalCache\\local-packages\\Python311\\site-packages\\owlready2\\pellet\\jena-core-2.10.0.jar;C:\\Users\\romai\\AppData\\Local\\Packages\\PythonSoftwareFoundation.Python.3.11_qbz5n2kfra8p0\\LocalCache\\local-packages\\Python311\\site-packages\\owlready2\\pellet\\jena-iri-0.9.5.jar;C:\\Users\\romai\\AppData\\Local\\Packages\\PythonSoftwareFoundation.Python.3.11_qbz5n2kfra8p0\\LocalCache\\local-packages\\Python311\\site-packages\\owlready2\\pellet\\jena-tdb-0.10.0.jar;C:\\Users\\romai\\AppData\\Local\\Packages\\PythonSoftwareFoundation.Python.3.11_qbz5n2kfra8p0\\LocalCache\\local-packages\\Python311\\site-packages\\owlready2\\pellet\\jgrapht-jdk1.5.jar;C:\\Users\\romai\\AppData\\Local\\Packages\\PythonSoftwareFoundation.Python.3.11_qbz5n2kfra8p0\\LocalCache\\local-packages\\Python311\\site-packages\\owlready2\\pellet\\log4j-1.2-api-2.19.0.jar;C:\\Users\\romai\\AppData\\Local\\Packages\\PythonSoftwareFoundation.Python.3.11_qbz5n2kfra8p0\\LocalCache\\local-packages\\Python311\\site-packages\\owlready2\\pellet\\log4j-api-2.19.0.jar;C:\\Users\\romai\\AppData\\Local\\Packages\\PythonSoftwareFoundation.Python.3.11_qbz5n2kfra8p0\\LocalCache\\local-packages\\Python311\\site-packages\\owlready2\\pellet\\log4j-core-2.19.0.jar;C:\\Users\\romai\\AppData\\Local\\Packages\\PythonSoftwareFoundation.Python.3.11_qbz5n2kfra8p0\\LocalCache\\local-packages\\Python311\\site-packages\\owlready2\\pellet\\owlapi-distribution-3.4.3-bin.jar;C:\\Users\\romai\\AppData\\Local\\Packages\\PythonSoftwareFoundation.Python.3.11_qbz5n2kfra8p0\\LocalCache\\local-packages\\Python311\\site-packages\\owlready2\\pellet\\pellet-2.3.1.jar;C:\\Users\\romai\\AppData\\Local\\Packages\\PythonSoftwareFoundation.Python.3.11_qbz5n2kfra8p0\\LocalCache\\local-packages\\Python311\\site-packages\\owlready2\\pellet\\slf4j-api-1.6.4.jar;C:\\Users\\romai\\AppData\\Local\\Packages\\PythonSoftwareFoundation.Python.3.11_qbz5n2kfra8p0\\LocalCache\\local-packages\\Python311\\site-packages\\owlready2\\pellet\\slf4j-log4j12-1.6.4.jar;C:\\Users\\romai\\AppData\\Local\\Packages\\PythonSoftwareFoundation.Python.3.11_qbz5n2kfra8p0\\LocalCache\\local-packages\\Python311\\site-packages\\owlready2\\pellet\\xercesImpl-2.10.0.jar;C:\\Users\\romai\\AppData\\Local\\Packages\\PythonSoftwareFoundation.Python.3.11_qbz5n2kfra8p0\\LocalCache\\local-packages\\Python311\\site-packages\\owlready2\\pellet\\xml-apis-1.4.01.jar pellet.Pellet realize --loader Jena --input-format N-Triples --infer-prop-values --infer-data-prop-values --ignore-imports C:\\Users\\romai\\AppData\\Local\\Temp\\tmp6__w_x4v\n",
      "* Owlready2 * Pellet took 2.483004093170166 seconds\n"
     ]
    },
    {
     "name": "stdout",
     "output_type": "stream",
     "text": [
      "* Owlready * Adding relation onto.34759499 aPourContenu Damn, Stephan breaking the circle of violence was breathtaking\\°46 respect bruv\n",
      "* Owlready * Adding relation onto.32426747 aPourContenu So sad we don\\°31t see Kim and Nicholas sitting together in the bar and talking as friends \\?75\\?42 I would have shed a tear\n",
      "* Owlready * Adding relation onto.33337268 aPourContenu I\\°31m starting to get bored but what a plot it would be to see zacarias destroying the trafiquants because they try to black mail him\n",
      "* Owlready * Adding relation onto.32406536 aPourContenu Damn who is spying who it\\°31s more complicated that I thought\n",
      "* Owlready * Adding relation onto.32606931 aPourContenu I love so much the mentality : they are all awesome but there also all fans of each other and they respect everyone some much I love this sport\\°31s mentality !\n",
      "* Owlready * Adding relation onto.33012136 aPourContenu This guy is like the embodiment of wisdom \\?75\\?55\n",
      "* Owlready * Adding relation onto.31913600 aPourContenu I know I am starting a bit late but damn, first episode and we\\°31re so in it ! I mean we know there\\°31s something secret and dark with the direction, there is a enigma that a scary dude try to solve and there are new bugs that make the robot to kinda revolt\\°46 spicy\n",
      "* Owlready * Adding relation onto.31616851 aPourContenu That was one of the saddest show episodes I ever seen \\?75\\?42\n",
      "* Owlready * Adding relation onto.31440434 aPourContenu That\\°31s rare to have a show with smarts and logic scenarios, it changes from usual show with kids doing the stupidest decision all time just to continue the show. I love Ozarks !!\n",
      "* Owlready * Adding relation onto.33944073 aPourContenu Noooooo don\\°31t stoppppp !!!\n",
      "* Owlready * Adding relation onto.31403030 aPourContenu It\\°31s so frustrating to see how easy it could have been to arrest this guy but they didn\\°31t\\°46\n",
      "* Owlready * Adding relation onto.33025590 aPourContenu My poor guy, he\\°31ll never clear his name \\?75\\?55\n",
      "* Owlready * Adding relation onto.32621287 aPourContenu Bbulkup made me laugh so hard I love that guy! I first thought he was so arrogant but then when he said \\253\\240of course I have regret, please do a season 2 or 3\\240\\273 I realized he just was so funny and was here to get fun \\?75\\?55\n",
      "* Owlready * Adding relation onto.32847523 aPourContenu I really was sad when he bought the drugs thinking he was going mad\\°46 and then \\?76\\?51\n",
      "* Owlready * Adding relation onto.33033320 aPourContenu That was such a bold move from\\nRose\n",
      "* Owlready * Adding relation onto.33944060 aPourContenu Ohhhh he knows what he\\°31s doing\n",
      "* Owlready * Adding relation onto.32171243 aPourContenu Please where can I vote for Taylor for this episode \\?75\\?55\\?75\\?55\n",
      "* Owlready * Adding relation onto.34666001 aPourContenu \\253\\240he has been killed too\\240fast\\240\\273 but guys, we\\°31re talking about sully. That\\°31s suprising the guy isn\\°31t dead in the first episode when he pissed of Sully\n",
      "* Owlready * Adding relation onto.31382081 aPourContenu Wow, what a surprise ! The plan of silver is to become not only the champion of the valley but also of the world ?! \\nCouldn\\°31t have guess that\\°46 \\?75\\?17\\?75\\?17\n",
      "* Owlready * Adding relation onto.34024327 aPourContenu This documentary is so great because we all know Arnold\\°31s exploits, that he is the best on so many things\\°46 but the gold is his mindset \\Ì50\\nHe really have his head on his shoulder I love it\n",
      "* Owlready * Adding relation onto.33237592 aPourContenu Again these fucking empty weapon boxes instead of the gold \\?75\\?55\n"
     ]
    },
    {
     "name": "stderr",
     "output_type": "stream",
     "text": [
      "* Owlready * (NB: only changes on entities loaded in Python are shown, other changes are done but not listed)\n"
     ]
    }
   ],
   "source": [
    "sync_reasoner_pellet([onto], infer_property_values = True, infer_data_property_values = True, debug=True)"
   ]
  },
  {
   "cell_type": "code",
   "execution_count": 9,
   "metadata": {},
   "outputs": [],
   "source": [
    "onto.save(file = \"tvtime_ontology.owl\", format = \"rdfxml\")"
   ]
  },
  {
   "cell_type": "markdown",
   "metadata": {},
   "source": [
    "# Créer des classes plus complexes"
   ]
  },
  {
   "cell_type": "code",
   "execution_count": 10,
   "metadata": {},
   "outputs": [],
   "source": [
    "# Load the ontology\n",
    "onto = get_ontology(\"tvtime_ontology.owl\").load()"
   ]
  },
  {
   "cell_type": "code",
   "execution_count": 11,
   "metadata": {},
   "outputs": [
    {
     "name": "stderr",
     "output_type": "stream",
     "text": [
      "* Owlready2 * Running Pellet...\n",
      "    java -Xmx2000M -cp C:\\Users\\romai\\AppData\\Local\\Packages\\PythonSoftwareFoundation.Python.3.11_qbz5n2kfra8p0\\LocalCache\\local-packages\\Python311\\site-packages\\owlready2\\pellet\\antlr-3.2.jar;C:\\Users\\romai\\AppData\\Local\\Packages\\PythonSoftwareFoundation.Python.3.11_qbz5n2kfra8p0\\LocalCache\\local-packages\\Python311\\site-packages\\owlready2\\pellet\\antlr-runtime-3.2.jar;C:\\Users\\romai\\AppData\\Local\\Packages\\PythonSoftwareFoundation.Python.3.11_qbz5n2kfra8p0\\LocalCache\\local-packages\\Python311\\site-packages\\owlready2\\pellet\\aterm-java-1.6.jar;C:\\Users\\romai\\AppData\\Local\\Packages\\PythonSoftwareFoundation.Python.3.11_qbz5n2kfra8p0\\LocalCache\\local-packages\\Python311\\site-packages\\owlready2\\pellet\\commons-codec-1.6.jar;C:\\Users\\romai\\AppData\\Local\\Packages\\PythonSoftwareFoundation.Python.3.11_qbz5n2kfra8p0\\LocalCache\\local-packages\\Python311\\site-packages\\owlready2\\pellet\\httpclient-4.2.3.jar;C:\\Users\\romai\\AppData\\Local\\Packages\\PythonSoftwareFoundation.Python.3.11_qbz5n2kfra8p0\\LocalCache\\local-packages\\Python311\\site-packages\\owlready2\\pellet\\httpcore-4.2.2.jar;C:\\Users\\romai\\AppData\\Local\\Packages\\PythonSoftwareFoundation.Python.3.11_qbz5n2kfra8p0\\LocalCache\\local-packages\\Python311\\site-packages\\owlready2\\pellet\\jcl-over-slf4j-1.6.4.jar;C:\\Users\\romai\\AppData\\Local\\Packages\\PythonSoftwareFoundation.Python.3.11_qbz5n2kfra8p0\\LocalCache\\local-packages\\Python311\\site-packages\\owlready2\\pellet\\jena-arq-2.10.0.jar;C:\\Users\\romai\\AppData\\Local\\Packages\\PythonSoftwareFoundation.Python.3.11_qbz5n2kfra8p0\\LocalCache\\local-packages\\Python311\\site-packages\\owlready2\\pellet\\jena-core-2.10.0.jar;C:\\Users\\romai\\AppData\\Local\\Packages\\PythonSoftwareFoundation.Python.3.11_qbz5n2kfra8p0\\LocalCache\\local-packages\\Python311\\site-packages\\owlready2\\pellet\\jena-iri-0.9.5.jar;C:\\Users\\romai\\AppData\\Local\\Packages\\PythonSoftwareFoundation.Python.3.11_qbz5n2kfra8p0\\LocalCache\\local-packages\\Python311\\site-packages\\owlready2\\pellet\\jena-tdb-0.10.0.jar;C:\\Users\\romai\\AppData\\Local\\Packages\\PythonSoftwareFoundation.Python.3.11_qbz5n2kfra8p0\\LocalCache\\local-packages\\Python311\\site-packages\\owlready2\\pellet\\jgrapht-jdk1.5.jar;C:\\Users\\romai\\AppData\\Local\\Packages\\PythonSoftwareFoundation.Python.3.11_qbz5n2kfra8p0\\LocalCache\\local-packages\\Python311\\site-packages\\owlready2\\pellet\\log4j-1.2-api-2.19.0.jar;C:\\Users\\romai\\AppData\\Local\\Packages\\PythonSoftwareFoundation.Python.3.11_qbz5n2kfra8p0\\LocalCache\\local-packages\\Python311\\site-packages\\owlready2\\pellet\\log4j-api-2.19.0.jar;C:\\Users\\romai\\AppData\\Local\\Packages\\PythonSoftwareFoundation.Python.3.11_qbz5n2kfra8p0\\LocalCache\\local-packages\\Python311\\site-packages\\owlready2\\pellet\\log4j-core-2.19.0.jar;C:\\Users\\romai\\AppData\\Local\\Packages\\PythonSoftwareFoundation.Python.3.11_qbz5n2kfra8p0\\LocalCache\\local-packages\\Python311\\site-packages\\owlready2\\pellet\\owlapi-distribution-3.4.3-bin.jar;C:\\Users\\romai\\AppData\\Local\\Packages\\PythonSoftwareFoundation.Python.3.11_qbz5n2kfra8p0\\LocalCache\\local-packages\\Python311\\site-packages\\owlready2\\pellet\\pellet-2.3.1.jar;C:\\Users\\romai\\AppData\\Local\\Packages\\PythonSoftwareFoundation.Python.3.11_qbz5n2kfra8p0\\LocalCache\\local-packages\\Python311\\site-packages\\owlready2\\pellet\\slf4j-api-1.6.4.jar;C:\\Users\\romai\\AppData\\Local\\Packages\\PythonSoftwareFoundation.Python.3.11_qbz5n2kfra8p0\\LocalCache\\local-packages\\Python311\\site-packages\\owlready2\\pellet\\slf4j-log4j12-1.6.4.jar;C:\\Users\\romai\\AppData\\Local\\Packages\\PythonSoftwareFoundation.Python.3.11_qbz5n2kfra8p0\\LocalCache\\local-packages\\Python311\\site-packages\\owlready2\\pellet\\xercesImpl-2.10.0.jar;C:\\Users\\romai\\AppData\\Local\\Packages\\PythonSoftwareFoundation.Python.3.11_qbz5n2kfra8p0\\LocalCache\\local-packages\\Python311\\site-packages\\owlready2\\pellet\\xml-apis-1.4.01.jar pellet.Pellet realize --loader Jena --input-format N-Triples --infer-prop-values --infer-data-prop-values --ignore-imports C:\\Users\\romai\\AppData\\Local\\Temp\\tmpxtqjy_1l\n",
      "* Owlready2 * Pellet took 11.290910720825195 seconds\n",
      "* Owlready * Reparenting onto.Episode: {owl.Thing} => {onto.User}\n",
      "* Owlready * Reparenting onto.TVShow: {owl.Thing} => {onto.User}\n",
      "* Owlready * (NB: only changes on entities loaded in Python are shown, other changes are done but not listed)\n"
     ]
    }
   ],
   "source": [
    "with onto:\n",
    "    class User(Thing):\n",
    "        equivalent_to = [User & (has_started.some(TVShow) & has_watched.some(Episode) & follows.some(TVShow) & has_stopped.some(TVShow)) & user_rates.some(Rating) & user_posts_comment.some(Comment) & user_expresses.some(Emotion)]\n",
    "\n",
    "    class TVShow(Thing):\n",
    "        equivalent_to = [TVShow & (follows.some(User) & has_started.some(User) & is_stopped_by.some(User))]\n",
    "\n",
    "    class Episode(Thing):\n",
    "        equivalent_to = [Episode & (has_watched.some(User) & is_rated_by.some(Rating) & is_commented_on_by.some(Comment) & is_evoked_by.some(Emotion))]\n",
    "\n",
    "    class Comment(Thing):\n",
    "        equivalent_to = [Comment & (posts_by.some(User) & comments_on.some(Episode))]\n",
    "\n",
    "    class Rating(Thing):\n",
    "        equivalent_to = [Rating & (rated_by_user.some(User) & rates_episodes.some(Episode))]\n",
    "\n",
    "    class Emotion(Thing):\n",
    "        equivalent_to = [Emotion & (expressed_by.some(User) & evokes.some(Episode))]\n",
    "\n",
    "sync_reasoner_pellet([onto], infer_property_values = True, infer_data_property_values = True, debug=True)"
   ]
  },
  {
   "cell_type": "code",
   "execution_count": 24,
   "metadata": {},
   "outputs": [
    {
     "name": "stderr",
     "output_type": "stream",
     "text": [
      "* Owlready2 * Running Pellet...\n",
      "    java -Xmx2000M -cp C:\\Users\\romai\\AppData\\Local\\Packages\\PythonSoftwareFoundation.Python.3.11_qbz5n2kfra8p0\\LocalCache\\local-packages\\Python311\\site-packages\\owlready2\\pellet\\antlr-3.2.jar;C:\\Users\\romai\\AppData\\Local\\Packages\\PythonSoftwareFoundation.Python.3.11_qbz5n2kfra8p0\\LocalCache\\local-packages\\Python311\\site-packages\\owlready2\\pellet\\antlr-runtime-3.2.jar;C:\\Users\\romai\\AppData\\Local\\Packages\\PythonSoftwareFoundation.Python.3.11_qbz5n2kfra8p0\\LocalCache\\local-packages\\Python311\\site-packages\\owlready2\\pellet\\aterm-java-1.6.jar;C:\\Users\\romai\\AppData\\Local\\Packages\\PythonSoftwareFoundation.Python.3.11_qbz5n2kfra8p0\\LocalCache\\local-packages\\Python311\\site-packages\\owlready2\\pellet\\commons-codec-1.6.jar;C:\\Users\\romai\\AppData\\Local\\Packages\\PythonSoftwareFoundation.Python.3.11_qbz5n2kfra8p0\\LocalCache\\local-packages\\Python311\\site-packages\\owlready2\\pellet\\httpclient-4.2.3.jar;C:\\Users\\romai\\AppData\\Local\\Packages\\PythonSoftwareFoundation.Python.3.11_qbz5n2kfra8p0\\LocalCache\\local-packages\\Python311\\site-packages\\owlready2\\pellet\\httpcore-4.2.2.jar;C:\\Users\\romai\\AppData\\Local\\Packages\\PythonSoftwareFoundation.Python.3.11_qbz5n2kfra8p0\\LocalCache\\local-packages\\Python311\\site-packages\\owlready2\\pellet\\jcl-over-slf4j-1.6.4.jar;C:\\Users\\romai\\AppData\\Local\\Packages\\PythonSoftwareFoundation.Python.3.11_qbz5n2kfra8p0\\LocalCache\\local-packages\\Python311\\site-packages\\owlready2\\pellet\\jena-arq-2.10.0.jar;C:\\Users\\romai\\AppData\\Local\\Packages\\PythonSoftwareFoundation.Python.3.11_qbz5n2kfra8p0\\LocalCache\\local-packages\\Python311\\site-packages\\owlready2\\pellet\\jena-core-2.10.0.jar;C:\\Users\\romai\\AppData\\Local\\Packages\\PythonSoftwareFoundation.Python.3.11_qbz5n2kfra8p0\\LocalCache\\local-packages\\Python311\\site-packages\\owlready2\\pellet\\jena-iri-0.9.5.jar;C:\\Users\\romai\\AppData\\Local\\Packages\\PythonSoftwareFoundation.Python.3.11_qbz5n2kfra8p0\\LocalCache\\local-packages\\Python311\\site-packages\\owlready2\\pellet\\jena-tdb-0.10.0.jar;C:\\Users\\romai\\AppData\\Local\\Packages\\PythonSoftwareFoundation.Python.3.11_qbz5n2kfra8p0\\LocalCache\\local-packages\\Python311\\site-packages\\owlready2\\pellet\\jgrapht-jdk1.5.jar;C:\\Users\\romai\\AppData\\Local\\Packages\\PythonSoftwareFoundation.Python.3.11_qbz5n2kfra8p0\\LocalCache\\local-packages\\Python311\\site-packages\\owlready2\\pellet\\log4j-1.2-api-2.19.0.jar;C:\\Users\\romai\\AppData\\Local\\Packages\\PythonSoftwareFoundation.Python.3.11_qbz5n2kfra8p0\\LocalCache\\local-packages\\Python311\\site-packages\\owlready2\\pellet\\log4j-api-2.19.0.jar;C:\\Users\\romai\\AppData\\Local\\Packages\\PythonSoftwareFoundation.Python.3.11_qbz5n2kfra8p0\\LocalCache\\local-packages\\Python311\\site-packages\\owlready2\\pellet\\log4j-core-2.19.0.jar;C:\\Users\\romai\\AppData\\Local\\Packages\\PythonSoftwareFoundation.Python.3.11_qbz5n2kfra8p0\\LocalCache\\local-packages\\Python311\\site-packages\\owlready2\\pellet\\owlapi-distribution-3.4.3-bin.jar;C:\\Users\\romai\\AppData\\Local\\Packages\\PythonSoftwareFoundation.Python.3.11_qbz5n2kfra8p0\\LocalCache\\local-packages\\Python311\\site-packages\\owlready2\\pellet\\pellet-2.3.1.jar;C:\\Users\\romai\\AppData\\Local\\Packages\\PythonSoftwareFoundation.Python.3.11_qbz5n2kfra8p0\\LocalCache\\local-packages\\Python311\\site-packages\\owlready2\\pellet\\slf4j-api-1.6.4.jar;C:\\Users\\romai\\AppData\\Local\\Packages\\PythonSoftwareFoundation.Python.3.11_qbz5n2kfra8p0\\LocalCache\\local-packages\\Python311\\site-packages\\owlready2\\pellet\\slf4j-log4j12-1.6.4.jar;C:\\Users\\romai\\AppData\\Local\\Packages\\PythonSoftwareFoundation.Python.3.11_qbz5n2kfra8p0\\LocalCache\\local-packages\\Python311\\site-packages\\owlready2\\pellet\\xercesImpl-2.10.0.jar;C:\\Users\\romai\\AppData\\Local\\Packages\\PythonSoftwareFoundation.Python.3.11_qbz5n2kfra8p0\\LocalCache\\local-packages\\Python311\\site-packages\\owlready2\\pellet\\xml-apis-1.4.01.jar pellet.Pellet realize --loader Jena --input-format N-Triples --infer-prop-values --infer-data-prop-values --ignore-imports C:\\Users\\romai\\AppData\\Local\\Temp\\tmpz8jotk0m\n",
      "* Owlready2 * Pellet took 2.5155959129333496 seconds\n"
     ]
    },
    {
     "name": "stdout",
     "output_type": "stream",
     "text": [
      "Number of TV shows that engage the user: 16 : \n",
      "Westworld engages the user\n",
      "Ozark engages the user\n",
      "Barry engages the user\n",
      "Cobra Kai engages the user\n",
      "Top Boy engages the user\n",
      "Monster (2022) engages the user\n",
      "Bloodhounds (2023) engages the user\n",
      "Black Knight engages the user\n",
      "The Night Agent engages the user\n",
      "A Spy Among Friends engages the user\n",
      "Citadel engages the user\n",
      "The Terminal List engages the user\n",
      "The Marked Heart engages the user\n",
      "Florida Man engages the user\n",
      "Physical: 100 engages the user\n",
      "Arnold engages the user\n"
     ]
    },
    {
     "name": "stderr",
     "output_type": "stream",
     "text": [
      "* Owlready * (NB: only changes on entities loaded in Python are shown, other changes are done but not listed)\n"
     ]
    }
   ],
   "source": [
    "with onto:\n",
    "\n",
    "    class TVShowEngageUser(Thing): pass\n",
    "        # A tv show engages a user if the user has started watching the tv show,\n",
    "        # has watched at least one episode,\n",
    "        # has posted a comment on an episode of the tv show and\n",
    "        # follows the tv show\n",
    "\n",
    "    #  # Define a function to check if a user engages with a TV show\n",
    "    # def check_engagement(user, tv_show):\n",
    "    #     for episode in user.has_watched:\n",
    "    #         if episode.is_episode_of == tv_show and user in episode.comments_by:\n",
    "    #             return True\n",
    "    #     return False\n",
    "\n",
    "    # # Iterate over each user and TV show\n",
    "    # for user in onto.User.instances():\n",
    "    #     for tv_show in onto.TVShow.instances():\n",
    "    #         # Check if the user has started watching the TV show\n",
    "    #         if user.has_started and user.has_started[0] == tv_show:\n",
    "    #             # Check if the user has watched at least one episode and posted a comment on an episode of the TV show\n",
    "    #             if check_engagement(user, tv_show):\n",
    "    #                 # If all conditions are met, create an instance of TVShowEngageUser\n",
    "    #                 TVShowEngageUser(tv_show)\n",
    "\n",
    "    rule1 = Imp()\n",
    "    rule1.set_as_rule('''\n",
    "        has_started(?user, ?tv_show),\n",
    "        has_watched(?user, ?episode),\n",
    "        follows(?user, ?tv_show),\n",
    "        user_posts_comment(?user, ?comment),\n",
    "        comments_on(?comment, ?episode),\n",
    "        is_episode_of(?episode, ?tv_show)\n",
    "        -> TVShowEngageUser(?tv_show)\n",
    "    ''')\n",
    "\n",
    "sync_reasoner_pellet([onto], infer_property_values = True, infer_data_property_values = True, debug=True)\n",
    "\n",
    "print(f'Number of TV shows that engage the user: {len(onto.TVShowEngageUser.instances())} : ')\n",
    "for tv_show in onto.TVShowEngageUser.instances():\n",
    "    print(f'{tv_show.aPourTitre} engages the user')"
   ]
  },
  {
   "cell_type": "code",
   "execution_count": 15,
   "metadata": {},
   "outputs": [
    {
     "name": "stderr",
     "output_type": "stream",
     "text": [
      "* Owlready2 * Running Pellet...\n",
      "    java -Xmx2000M -cp C:\\Users\\romai\\AppData\\Local\\Packages\\PythonSoftwareFoundation.Python.3.11_qbz5n2kfra8p0\\LocalCache\\local-packages\\Python311\\site-packages\\owlready2\\pellet\\antlr-3.2.jar;C:\\Users\\romai\\AppData\\Local\\Packages\\PythonSoftwareFoundation.Python.3.11_qbz5n2kfra8p0\\LocalCache\\local-packages\\Python311\\site-packages\\owlready2\\pellet\\antlr-runtime-3.2.jar;C:\\Users\\romai\\AppData\\Local\\Packages\\PythonSoftwareFoundation.Python.3.11_qbz5n2kfra8p0\\LocalCache\\local-packages\\Python311\\site-packages\\owlready2\\pellet\\aterm-java-1.6.jar;C:\\Users\\romai\\AppData\\Local\\Packages\\PythonSoftwareFoundation.Python.3.11_qbz5n2kfra8p0\\LocalCache\\local-packages\\Python311\\site-packages\\owlready2\\pellet\\commons-codec-1.6.jar;C:\\Users\\romai\\AppData\\Local\\Packages\\PythonSoftwareFoundation.Python.3.11_qbz5n2kfra8p0\\LocalCache\\local-packages\\Python311\\site-packages\\owlready2\\pellet\\httpclient-4.2.3.jar;C:\\Users\\romai\\AppData\\Local\\Packages\\PythonSoftwareFoundation.Python.3.11_qbz5n2kfra8p0\\LocalCache\\local-packages\\Python311\\site-packages\\owlready2\\pellet\\httpcore-4.2.2.jar;C:\\Users\\romai\\AppData\\Local\\Packages\\PythonSoftwareFoundation.Python.3.11_qbz5n2kfra8p0\\LocalCache\\local-packages\\Python311\\site-packages\\owlready2\\pellet\\jcl-over-slf4j-1.6.4.jar;C:\\Users\\romai\\AppData\\Local\\Packages\\PythonSoftwareFoundation.Python.3.11_qbz5n2kfra8p0\\LocalCache\\local-packages\\Python311\\site-packages\\owlready2\\pellet\\jena-arq-2.10.0.jar;C:\\Users\\romai\\AppData\\Local\\Packages\\PythonSoftwareFoundation.Python.3.11_qbz5n2kfra8p0\\LocalCache\\local-packages\\Python311\\site-packages\\owlready2\\pellet\\jena-core-2.10.0.jar;C:\\Users\\romai\\AppData\\Local\\Packages\\PythonSoftwareFoundation.Python.3.11_qbz5n2kfra8p0\\LocalCache\\local-packages\\Python311\\site-packages\\owlready2\\pellet\\jena-iri-0.9.5.jar;C:\\Users\\romai\\AppData\\Local\\Packages\\PythonSoftwareFoundation.Python.3.11_qbz5n2kfra8p0\\LocalCache\\local-packages\\Python311\\site-packages\\owlready2\\pellet\\jena-tdb-0.10.0.jar;C:\\Users\\romai\\AppData\\Local\\Packages\\PythonSoftwareFoundation.Python.3.11_qbz5n2kfra8p0\\LocalCache\\local-packages\\Python311\\site-packages\\owlready2\\pellet\\jgrapht-jdk1.5.jar;C:\\Users\\romai\\AppData\\Local\\Packages\\PythonSoftwareFoundation.Python.3.11_qbz5n2kfra8p0\\LocalCache\\local-packages\\Python311\\site-packages\\owlready2\\pellet\\log4j-1.2-api-2.19.0.jar;C:\\Users\\romai\\AppData\\Local\\Packages\\PythonSoftwareFoundation.Python.3.11_qbz5n2kfra8p0\\LocalCache\\local-packages\\Python311\\site-packages\\owlready2\\pellet\\log4j-api-2.19.0.jar;C:\\Users\\romai\\AppData\\Local\\Packages\\PythonSoftwareFoundation.Python.3.11_qbz5n2kfra8p0\\LocalCache\\local-packages\\Python311\\site-packages\\owlready2\\pellet\\log4j-core-2.19.0.jar;C:\\Users\\romai\\AppData\\Local\\Packages\\PythonSoftwareFoundation.Python.3.11_qbz5n2kfra8p0\\LocalCache\\local-packages\\Python311\\site-packages\\owlready2\\pellet\\owlapi-distribution-3.4.3-bin.jar;C:\\Users\\romai\\AppData\\Local\\Packages\\PythonSoftwareFoundation.Python.3.11_qbz5n2kfra8p0\\LocalCache\\local-packages\\Python311\\site-packages\\owlready2\\pellet\\pellet-2.3.1.jar;C:\\Users\\romai\\AppData\\Local\\Packages\\PythonSoftwareFoundation.Python.3.11_qbz5n2kfra8p0\\LocalCache\\local-packages\\Python311\\site-packages\\owlready2\\pellet\\slf4j-api-1.6.4.jar;C:\\Users\\romai\\AppData\\Local\\Packages\\PythonSoftwareFoundation.Python.3.11_qbz5n2kfra8p0\\LocalCache\\local-packages\\Python311\\site-packages\\owlready2\\pellet\\slf4j-log4j12-1.6.4.jar;C:\\Users\\romai\\AppData\\Local\\Packages\\PythonSoftwareFoundation.Python.3.11_qbz5n2kfra8p0\\LocalCache\\local-packages\\Python311\\site-packages\\owlready2\\pellet\\xercesImpl-2.10.0.jar;C:\\Users\\romai\\AppData\\Local\\Packages\\PythonSoftwareFoundation.Python.3.11_qbz5n2kfra8p0\\LocalCache\\local-packages\\Python311\\site-packages\\owlready2\\pellet\\xml-apis-1.4.01.jar pellet.Pellet realize --loader Jena --input-format N-Triples --infer-prop-values --infer-data-prop-values --ignore-imports C:\\Users\\romai\\AppData\\Local\\Temp\\tmp2xndt61l\n",
      "* Owlready2 * Pellet took 11.575957298278809 seconds\n"
     ]
    },
    {
     "name": "stdout",
     "output_type": "stream",
     "text": [
      "Number of TV shows that influence the user: \n",
      "The Night Agent influences by Romain\n",
      "A Spy Among Friends influences by Romain\n"
     ]
    },
    {
     "name": "stderr",
     "output_type": "stream",
     "text": [
      "* Owlready * (NB: only changes on entities loaded in Python are shown, other changes are done but not listed)\n"
     ]
    }
   ],
   "source": [
    "with onto:\n",
    "    class is_influenced_by(TVShow >> User): pass\n",
    "        # This is the list of the TVShow associated to a user\n",
    "        # in which the sum of the likes on the comments made by the user on the episodes of the TVShow is greater than 50\n",
    "\n",
    "    for user in onto.User.instances():\n",
    "        for tv_show in onto.TVShow.instances():\n",
    "            sum_likes = 0\n",
    "            for episode in user.has_watched:\n",
    "                if tv_show in episode.is_episode_of and episode.is_commented_on_by :\n",
    "                    # print(f'{episode.is_commented_on_by}')\n",
    "                    # print(f'User {user} has commented on episode {episode} of TV show {tv_show}')\n",
    "                    for comment in episode.is_commented_on_by:\n",
    "                        # print(f'{comment.nbLikes}')\n",
    "                        sum_likes += comment.nbLikes\n",
    "            if sum_likes > 50:\n",
    "                tv_show.is_influenced_by.append(user)\n",
    "\n",
    "sync_reasoner_pellet([onto], infer_property_values = True, infer_data_property_values = True, debug=True)\n",
    "\n",
    "print(f'Number of TV shows that influence the user: ')\n",
    "for tv_show in onto.TVShow.instances() :\n",
    "    if tv_show.is_influenced_by :\n",
    "        print(f'{tv_show.aPourTitre} influenced by Romain')"
   ]
  },
  {
   "cell_type": "markdown",
   "metadata": {},
   "source": [
    "# Ne fonctionne pas"
   ]
  },
  {
   "cell_type": "code",
   "execution_count": null,
   "metadata": {},
   "outputs": [
    {
     "name": "stderr",
     "output_type": "stream",
     "text": [
      "* Owlready2 * Running Pellet...\n",
      "    java -Xmx2000M -cp C:\\Users\\romai\\AppData\\Local\\Packages\\PythonSoftwareFoundation.Python.3.11_qbz5n2kfra8p0\\LocalCache\\local-packages\\Python311\\site-packages\\owlready2\\pellet\\antlr-3.2.jar;C:\\Users\\romai\\AppData\\Local\\Packages\\PythonSoftwareFoundation.Python.3.11_qbz5n2kfra8p0\\LocalCache\\local-packages\\Python311\\site-packages\\owlready2\\pellet\\antlr-runtime-3.2.jar;C:\\Users\\romai\\AppData\\Local\\Packages\\PythonSoftwareFoundation.Python.3.11_qbz5n2kfra8p0\\LocalCache\\local-packages\\Python311\\site-packages\\owlready2\\pellet\\aterm-java-1.6.jar;C:\\Users\\romai\\AppData\\Local\\Packages\\PythonSoftwareFoundation.Python.3.11_qbz5n2kfra8p0\\LocalCache\\local-packages\\Python311\\site-packages\\owlready2\\pellet\\commons-codec-1.6.jar;C:\\Users\\romai\\AppData\\Local\\Packages\\PythonSoftwareFoundation.Python.3.11_qbz5n2kfra8p0\\LocalCache\\local-packages\\Python311\\site-packages\\owlready2\\pellet\\httpclient-4.2.3.jar;C:\\Users\\romai\\AppData\\Local\\Packages\\PythonSoftwareFoundation.Python.3.11_qbz5n2kfra8p0\\LocalCache\\local-packages\\Python311\\site-packages\\owlready2\\pellet\\httpcore-4.2.2.jar;C:\\Users\\romai\\AppData\\Local\\Packages\\PythonSoftwareFoundation.Python.3.11_qbz5n2kfra8p0\\LocalCache\\local-packages\\Python311\\site-packages\\owlready2\\pellet\\jcl-over-slf4j-1.6.4.jar;C:\\Users\\romai\\AppData\\Local\\Packages\\PythonSoftwareFoundation.Python.3.11_qbz5n2kfra8p0\\LocalCache\\local-packages\\Python311\\site-packages\\owlready2\\pellet\\jena-arq-2.10.0.jar;C:\\Users\\romai\\AppData\\Local\\Packages\\PythonSoftwareFoundation.Python.3.11_qbz5n2kfra8p0\\LocalCache\\local-packages\\Python311\\site-packages\\owlready2\\pellet\\jena-core-2.10.0.jar;C:\\Users\\romai\\AppData\\Local\\Packages\\PythonSoftwareFoundation.Python.3.11_qbz5n2kfra8p0\\LocalCache\\local-packages\\Python311\\site-packages\\owlready2\\pellet\\jena-iri-0.9.5.jar;C:\\Users\\romai\\AppData\\Local\\Packages\\PythonSoftwareFoundation.Python.3.11_qbz5n2kfra8p0\\LocalCache\\local-packages\\Python311\\site-packages\\owlready2\\pellet\\jena-tdb-0.10.0.jar;C:\\Users\\romai\\AppData\\Local\\Packages\\PythonSoftwareFoundation.Python.3.11_qbz5n2kfra8p0\\LocalCache\\local-packages\\Python311\\site-packages\\owlready2\\pellet\\jgrapht-jdk1.5.jar;C:\\Users\\romai\\AppData\\Local\\Packages\\PythonSoftwareFoundation.Python.3.11_qbz5n2kfra8p0\\LocalCache\\local-packages\\Python311\\site-packages\\owlready2\\pellet\\log4j-1.2-api-2.19.0.jar;C:\\Users\\romai\\AppData\\Local\\Packages\\PythonSoftwareFoundation.Python.3.11_qbz5n2kfra8p0\\LocalCache\\local-packages\\Python311\\site-packages\\owlready2\\pellet\\log4j-api-2.19.0.jar;C:\\Users\\romai\\AppData\\Local\\Packages\\PythonSoftwareFoundation.Python.3.11_qbz5n2kfra8p0\\LocalCache\\local-packages\\Python311\\site-packages\\owlready2\\pellet\\log4j-core-2.19.0.jar;C:\\Users\\romai\\AppData\\Local\\Packages\\PythonSoftwareFoundation.Python.3.11_qbz5n2kfra8p0\\LocalCache\\local-packages\\Python311\\site-packages\\owlready2\\pellet\\owlapi-distribution-3.4.3-bin.jar;C:\\Users\\romai\\AppData\\Local\\Packages\\PythonSoftwareFoundation.Python.3.11_qbz5n2kfra8p0\\LocalCache\\local-packages\\Python311\\site-packages\\owlready2\\pellet\\pellet-2.3.1.jar;C:\\Users\\romai\\AppData\\Local\\Packages\\PythonSoftwareFoundation.Python.3.11_qbz5n2kfra8p0\\LocalCache\\local-packages\\Python311\\site-packages\\owlready2\\pellet\\slf4j-api-1.6.4.jar;C:\\Users\\romai\\AppData\\Local\\Packages\\PythonSoftwareFoundation.Python.3.11_qbz5n2kfra8p0\\LocalCache\\local-packages\\Python311\\site-packages\\owlready2\\pellet\\slf4j-log4j12-1.6.4.jar;C:\\Users\\romai\\AppData\\Local\\Packages\\PythonSoftwareFoundation.Python.3.11_qbz5n2kfra8p0\\LocalCache\\local-packages\\Python311\\site-packages\\owlready2\\pellet\\xercesImpl-2.10.0.jar;C:\\Users\\romai\\AppData\\Local\\Packages\\PythonSoftwareFoundation.Python.3.11_qbz5n2kfra8p0\\LocalCache\\local-packages\\Python311\\site-packages\\owlready2\\pellet\\xml-apis-1.4.01.jar pellet.Pellet realize --loader Jena --input-format N-Triples --infer-prop-values --infer-data-prop-values --ignore-imports C:\\Users\\romai\\AppData\\Local\\Temp\\tmpfnpqh7bk\n"
     ]
    },
    {
     "ename": "OwlReadyJavaError",
     "evalue": "Java error message is:\nException in thread \"main\" java.lang.OutOfMemoryError: GC overhead limit exceeded\r\n\tat java.util.ArrayList.<init>(Unknown Source)\r\n\tat com.clarkparsia.pellet.rules.rete.BetaNode.join(BetaNode.java:116)\r\n\tat com.clarkparsia.pellet.rules.rete.Interpreter.processBetaNodes(Interpreter.java:109)\r\n\tat com.clarkparsia.pellet.rules.rete.Interpreter.run(Interpreter.java:236)\r\n\tat com.clarkparsia.pellet.rules.ContinuousRulesStrategy.applyRete(ContinuousRulesStrategy.java:179)\r\n\tat com.clarkparsia.pellet.rules.ContinuousRulesStrategy.complete(ContinuousRulesStrategy.java:291)\r\n\tat org.mindswap.pellet.ABox.isConsistent(ABox.java:1423)\r\n\tat org.mindswap.pellet.ABox.isConsistent(ABox.java:1260)\r\n\tat org.mindswap.pellet.KnowledgeBase.consistency(KnowledgeBase.java:1987)\r\n\tat org.mindswap.pellet.KnowledgeBase.isConsistent(KnowledgeBase.java:2061)\r\n\tat pellet.PelletRealize.run(PelletRealize.java:70)\r\n\tat pellet.Pellet.run(Pellet.java:105)\r\n\tat pellet.Pellet.main(Pellet.java:59)\r\n",
     "output_type": "error",
     "traceback": [
      "\u001b[1;31m---------------------------------------------------------------------------\u001b[0m",
      "\u001b[1;31mCalledProcessError\u001b[0m                        Traceback (most recent call last)",
      "File \u001b[1;32m~\\AppData\\Local\\Packages\\PythonSoftwareFoundation.Python.3.11_qbz5n2kfra8p0\\LocalCache\\local-packages\\Python311\\site-packages\\owlready2\\reasoning.py:260\u001b[0m, in \u001b[0;36msync_reasoner_pellet\u001b[1;34m(x, infer_property_values, infer_data_property_values, debug, keep_tmp_file)\u001b[0m\n\u001b[0;32m    259\u001b[0m \u001b[38;5;28;01mtry\u001b[39;00m:\n\u001b[1;32m--> 260\u001b[0m   output \u001b[38;5;241m=\u001b[39m \u001b[43msubprocess\u001b[49m\u001b[38;5;241;43m.\u001b[39;49m\u001b[43mrun\u001b[49m\u001b[43m(\u001b[49m\u001b[43mcommand\u001b[49m\u001b[43m,\u001b[49m\u001b[43m \u001b[49m\u001b[43mstdout\u001b[49m\u001b[43m \u001b[49m\u001b[38;5;241;43m=\u001b[39;49m\u001b[43m \u001b[49m\u001b[43msubprocess\u001b[49m\u001b[38;5;241;43m.\u001b[39;49m\u001b[43mPIPE\u001b[49m\u001b[43m,\u001b[49m\u001b[43m \u001b[49m\u001b[43mstderr\u001b[49m\u001b[43m \u001b[49m\u001b[38;5;241;43m=\u001b[39;49m\u001b[43m \u001b[49m\u001b[43msubprocess\u001b[49m\u001b[38;5;241;43m.\u001b[39;49m\u001b[43mPIPE\u001b[49m\u001b[43m,\u001b[49m\u001b[43m \u001b[49m\u001b[43mcheck\u001b[49m\u001b[43m \u001b[49m\u001b[38;5;241;43m=\u001b[39;49m\u001b[43m \u001b[49m\u001b[38;5;28;43;01mTrue\u001b[39;49;00m\u001b[43m,\u001b[49m\u001b[43m \u001b[49m\u001b[38;5;241;43m*\u001b[39;49m\u001b[38;5;241;43m*\u001b[39;49m\u001b[43m_subprocess_kargs\u001b[49m\u001b[43m)\u001b[49m\u001b[38;5;241m.\u001b[39mstdout\n\u001b[0;32m    261\u001b[0m \u001b[38;5;28;01mexcept\u001b[39;00m subprocess\u001b[38;5;241m.\u001b[39mCalledProcessError \u001b[38;5;28;01mas\u001b[39;00m e:\n",
      "File \u001b[1;32mC:\\Program Files\\WindowsApps\\PythonSoftwareFoundation.Python.3.11_3.11.2288.0_x64__qbz5n2kfra8p0\\Lib\\subprocess.py:571\u001b[0m, in \u001b[0;36mrun\u001b[1;34m(input, capture_output, timeout, check, *popenargs, **kwargs)\u001b[0m\n\u001b[0;32m    570\u001b[0m     \u001b[38;5;28;01mif\u001b[39;00m check \u001b[38;5;129;01mand\u001b[39;00m retcode:\n\u001b[1;32m--> 571\u001b[0m         \u001b[38;5;28;01mraise\u001b[39;00m CalledProcessError(retcode, process\u001b[38;5;241m.\u001b[39margs,\n\u001b[0;32m    572\u001b[0m                                  output\u001b[38;5;241m=\u001b[39mstdout, stderr\u001b[38;5;241m=\u001b[39mstderr)\n\u001b[0;32m    573\u001b[0m \u001b[38;5;28;01mreturn\u001b[39;00m CompletedProcess(process\u001b[38;5;241m.\u001b[39margs, retcode, stdout, stderr)\n",
      "\u001b[1;31mCalledProcessError\u001b[0m: Command '['java', '-Xmx2000M', '-cp', 'C:\\\\Users\\\\romai\\\\AppData\\\\Local\\\\Packages\\\\PythonSoftwareFoundation.Python.3.11_qbz5n2kfra8p0\\\\LocalCache\\\\local-packages\\\\Python311\\\\site-packages\\\\owlready2\\\\pellet\\\\antlr-3.2.jar;C:\\\\Users\\\\romai\\\\AppData\\\\Local\\\\Packages\\\\PythonSoftwareFoundation.Python.3.11_qbz5n2kfra8p0\\\\LocalCache\\\\local-packages\\\\Python311\\\\site-packages\\\\owlready2\\\\pellet\\\\antlr-runtime-3.2.jar;C:\\\\Users\\\\romai\\\\AppData\\\\Local\\\\Packages\\\\PythonSoftwareFoundation.Python.3.11_qbz5n2kfra8p0\\\\LocalCache\\\\local-packages\\\\Python311\\\\site-packages\\\\owlready2\\\\pellet\\\\aterm-java-1.6.jar;C:\\\\Users\\\\romai\\\\AppData\\\\Local\\\\Packages\\\\PythonSoftwareFoundation.Python.3.11_qbz5n2kfra8p0\\\\LocalCache\\\\local-packages\\\\Python311\\\\site-packages\\\\owlready2\\\\pellet\\\\commons-codec-1.6.jar;C:\\\\Users\\\\romai\\\\AppData\\\\Local\\\\Packages\\\\PythonSoftwareFoundation.Python.3.11_qbz5n2kfra8p0\\\\LocalCache\\\\local-packages\\\\Python311\\\\site-packages\\\\owlready2\\\\pellet\\\\httpclient-4.2.3.jar;C:\\\\Users\\\\romai\\\\AppData\\\\Local\\\\Packages\\\\PythonSoftwareFoundation.Python.3.11_qbz5n2kfra8p0\\\\LocalCache\\\\local-packages\\\\Python311\\\\site-packages\\\\owlready2\\\\pellet\\\\httpcore-4.2.2.jar;C:\\\\Users\\\\romai\\\\AppData\\\\Local\\\\Packages\\\\PythonSoftwareFoundation.Python.3.11_qbz5n2kfra8p0\\\\LocalCache\\\\local-packages\\\\Python311\\\\site-packages\\\\owlready2\\\\pellet\\\\jcl-over-slf4j-1.6.4.jar;C:\\\\Users\\\\romai\\\\AppData\\\\Local\\\\Packages\\\\PythonSoftwareFoundation.Python.3.11_qbz5n2kfra8p0\\\\LocalCache\\\\local-packages\\\\Python311\\\\site-packages\\\\owlready2\\\\pellet\\\\jena-arq-2.10.0.jar;C:\\\\Users\\\\romai\\\\AppData\\\\Local\\\\Packages\\\\PythonSoftwareFoundation.Python.3.11_qbz5n2kfra8p0\\\\LocalCache\\\\local-packages\\\\Python311\\\\site-packages\\\\owlready2\\\\pellet\\\\jena-core-2.10.0.jar;C:\\\\Users\\\\romai\\\\AppData\\\\Local\\\\Packages\\\\PythonSoftwareFoundation.Python.3.11_qbz5n2kfra8p0\\\\LocalCache\\\\local-packages\\\\Python311\\\\site-packages\\\\owlready2\\\\pellet\\\\jena-iri-0.9.5.jar;C:\\\\Users\\\\romai\\\\AppData\\\\Local\\\\Packages\\\\PythonSoftwareFoundation.Python.3.11_qbz5n2kfra8p0\\\\LocalCache\\\\local-packages\\\\Python311\\\\site-packages\\\\owlready2\\\\pellet\\\\jena-tdb-0.10.0.jar;C:\\\\Users\\\\romai\\\\AppData\\\\Local\\\\Packages\\\\PythonSoftwareFoundation.Python.3.11_qbz5n2kfra8p0\\\\LocalCache\\\\local-packages\\\\Python311\\\\site-packages\\\\owlready2\\\\pellet\\\\jgrapht-jdk1.5.jar;C:\\\\Users\\\\romai\\\\AppData\\\\Local\\\\Packages\\\\PythonSoftwareFoundation.Python.3.11_qbz5n2kfra8p0\\\\LocalCache\\\\local-packages\\\\Python311\\\\site-packages\\\\owlready2\\\\pellet\\\\log4j-1.2-api-2.19.0.jar;C:\\\\Users\\\\romai\\\\AppData\\\\Local\\\\Packages\\\\PythonSoftwareFoundation.Python.3.11_qbz5n2kfra8p0\\\\LocalCache\\\\local-packages\\\\Python311\\\\site-packages\\\\owlready2\\\\pellet\\\\log4j-api-2.19.0.jar;C:\\\\Users\\\\romai\\\\AppData\\\\Local\\\\Packages\\\\PythonSoftwareFoundation.Python.3.11_qbz5n2kfra8p0\\\\LocalCache\\\\local-packages\\\\Python311\\\\site-packages\\\\owlready2\\\\pellet\\\\log4j-core-2.19.0.jar;C:\\\\Users\\\\romai\\\\AppData\\\\Local\\\\Packages\\\\PythonSoftwareFoundation.Python.3.11_qbz5n2kfra8p0\\\\LocalCache\\\\local-packages\\\\Python311\\\\site-packages\\\\owlready2\\\\pellet\\\\owlapi-distribution-3.4.3-bin.jar;C:\\\\Users\\\\romai\\\\AppData\\\\Local\\\\Packages\\\\PythonSoftwareFoundation.Python.3.11_qbz5n2kfra8p0\\\\LocalCache\\\\local-packages\\\\Python311\\\\site-packages\\\\owlready2\\\\pellet\\\\pellet-2.3.1.jar;C:\\\\Users\\\\romai\\\\AppData\\\\Local\\\\Packages\\\\PythonSoftwareFoundation.Python.3.11_qbz5n2kfra8p0\\\\LocalCache\\\\local-packages\\\\Python311\\\\site-packages\\\\owlready2\\\\pellet\\\\slf4j-api-1.6.4.jar;C:\\\\Users\\\\romai\\\\AppData\\\\Local\\\\Packages\\\\PythonSoftwareFoundation.Python.3.11_qbz5n2kfra8p0\\\\LocalCache\\\\local-packages\\\\Python311\\\\site-packages\\\\owlready2\\\\pellet\\\\slf4j-log4j12-1.6.4.jar;C:\\\\Users\\\\romai\\\\AppData\\\\Local\\\\Packages\\\\PythonSoftwareFoundation.Python.3.11_qbz5n2kfra8p0\\\\LocalCache\\\\local-packages\\\\Python311\\\\site-packages\\\\owlready2\\\\pellet\\\\xercesImpl-2.10.0.jar;C:\\\\Users\\\\romai\\\\AppData\\\\Local\\\\Packages\\\\PythonSoftwareFoundation.Python.3.11_qbz5n2kfra8p0\\\\LocalCache\\\\local-packages\\\\Python311\\\\site-packages\\\\owlready2\\\\pellet\\\\xml-apis-1.4.01.jar', 'pellet.Pellet', 'realize', '--loader', 'Jena', '--input-format', 'N-Triples', '--infer-prop-values', '--infer-data-prop-values', '--ignore-imports', 'C:\\\\Users\\\\romai\\\\AppData\\\\Local\\\\Temp\\\\tmpfnpqh7bk']' returned non-zero exit status 1.",
      "\nDuring handling of the above exception, another exception occurred:\n",
      "\u001b[1;31mOwlReadyJavaError\u001b[0m                         Traceback (most recent call last)",
      "Cell \u001b[1;32mIn[12], line 17\u001b[0m\n\u001b[0;32m      6\u001b[0m     rule2 \u001b[38;5;241m=\u001b[39m Imp()\n\u001b[0;32m      7\u001b[0m     rule2\u001b[38;5;241m.\u001b[39mset_as_rule(\u001b[38;5;124m'''\u001b[39m\n\u001b[0;32m      8\u001b[0m \u001b[38;5;124m        user_rates(?user, ?rating),\u001b[39m\n\u001b[0;32m      9\u001b[0m \u001b[38;5;124m        rates_episodes(?rating, ?episode),\u001b[39m\n\u001b[1;32m   (...)\u001b[0m\n\u001b[0;32m     14\u001b[0m \u001b[38;5;124m        -> EmotionalEpisode(?episode)\u001b[39m\n\u001b[0;32m     15\u001b[0m \u001b[38;5;124m    \u001b[39m\u001b[38;5;124m'''\u001b[39m)\n\u001b[1;32m---> 17\u001b[0m \u001b[43msync_reasoner_pellet\u001b[49m\u001b[43m(\u001b[49m\u001b[43m[\u001b[49m\u001b[43monto\u001b[49m\u001b[43m]\u001b[49m\u001b[43m,\u001b[49m\u001b[43m \u001b[49m\u001b[43minfer_property_values\u001b[49m\u001b[43m \u001b[49m\u001b[38;5;241;43m=\u001b[39;49m\u001b[43m \u001b[49m\u001b[38;5;28;43;01mTrue\u001b[39;49;00m\u001b[43m,\u001b[49m\u001b[43m \u001b[49m\u001b[43minfer_data_property_values\u001b[49m\u001b[43m \u001b[49m\u001b[38;5;241;43m=\u001b[39;49m\u001b[43m \u001b[49m\u001b[38;5;28;43;01mTrue\u001b[39;49;00m\u001b[43m,\u001b[49m\u001b[43m \u001b[49m\u001b[43mdebug\u001b[49m\u001b[38;5;241;43m=\u001b[39;49m\u001b[38;5;28;43;01mTrue\u001b[39;49;00m\u001b[43m)\u001b[49m\n\u001b[0;32m     19\u001b[0m \u001b[38;5;28mprint\u001b[39m(\u001b[38;5;124mf\u001b[39m\u001b[38;5;124m'\u001b[39m\u001b[38;5;124mNumber of emotional episodes: \u001b[39m\u001b[38;5;132;01m{\u001b[39;00m\u001b[38;5;28mlen\u001b[39m(onto\u001b[38;5;241m.\u001b[39mEmotionalEpisode\u001b[38;5;241m.\u001b[39minstances())\u001b[38;5;132;01m}\u001b[39;00m\u001b[38;5;124m : \u001b[39m\u001b[38;5;124m'\u001b[39m)\n\u001b[0;32m     20\u001b[0m \u001b[38;5;28;01mfor\u001b[39;00m episode \u001b[38;5;129;01min\u001b[39;00m onto\u001b[38;5;241m.\u001b[39mEmotionalEpisode\u001b[38;5;241m.\u001b[39minstances():\n",
      "File \u001b[1;32m~\\AppData\\Local\\Packages\\PythonSoftwareFoundation.Python.3.11_qbz5n2kfra8p0\\LocalCache\\local-packages\\Python311\\site-packages\\owlready2\\reasoning.py:273\u001b[0m, in \u001b[0;36msync_reasoner_pellet\u001b[1;34m(x, infer_property_values, infer_data_property_values, debug, keep_tmp_file)\u001b[0m\n\u001b[0;32m    270\u001b[0m     \u001b[38;5;28;01mraise\u001b[39;00m OwlReadyInconsistentOntologyError(\u001b[38;5;124m\"\u001b[39m\u001b[38;5;124mJava error message is: \u001b[39m\u001b[38;5;132;01m%s\u001b[39;00m\u001b[38;5;124m\"\u001b[39m \u001b[38;5;241m%\u001b[39m msg)\n\u001b[0;32m    272\u001b[0m   \u001b[38;5;28;01melse\u001b[39;00m:\n\u001b[1;32m--> 273\u001b[0m     \u001b[38;5;28;01mraise\u001b[39;00m OwlReadyJavaError(\u001b[38;5;124m\"\u001b[39m\u001b[38;5;124mJava error message is:\u001b[39m\u001b[38;5;130;01m\\n\u001b[39;00m\u001b[38;5;132;01m%s\u001b[39;00m\u001b[38;5;124m\"\u001b[39m \u001b[38;5;241m%\u001b[39m _decode((e\u001b[38;5;241m.\u001b[39mstderr \u001b[38;5;129;01mor\u001b[39;00m e\u001b[38;5;241m.\u001b[39moutput \u001b[38;5;129;01mor\u001b[39;00m \u001b[38;5;124mb\u001b[39m\u001b[38;5;124m\"\u001b[39m\u001b[38;5;124m\"\u001b[39m)))\n\u001b[0;32m    275\u001b[0m output \u001b[38;5;241m=\u001b[39m _decode(output)\u001b[38;5;241m.\u001b[39mreplace(\u001b[38;5;124m\"\u001b[39m\u001b[38;5;130;01m\\r\u001b[39;00m\u001b[38;5;124m\"\u001b[39m,\u001b[38;5;124m\"\u001b[39m\u001b[38;5;124m\"\u001b[39m)\n\u001b[0;32m    277\u001b[0m \u001b[38;5;28;01mif\u001b[39;00m debug:\n",
      "\u001b[1;31mOwlReadyJavaError\u001b[0m: Java error message is:\nException in thread \"main\" java.lang.OutOfMemoryError: GC overhead limit exceeded\r\n\tat java.util.ArrayList.<init>(Unknown Source)\r\n\tat com.clarkparsia.pellet.rules.rete.BetaNode.join(BetaNode.java:116)\r\n\tat com.clarkparsia.pellet.rules.rete.Interpreter.processBetaNodes(Interpreter.java:109)\r\n\tat com.clarkparsia.pellet.rules.rete.Interpreter.run(Interpreter.java:236)\r\n\tat com.clarkparsia.pellet.rules.ContinuousRulesStrategy.applyRete(ContinuousRulesStrategy.java:179)\r\n\tat com.clarkparsia.pellet.rules.ContinuousRulesStrategy.complete(ContinuousRulesStrategy.java:291)\r\n\tat org.mindswap.pellet.ABox.isConsistent(ABox.java:1423)\r\n\tat org.mindswap.pellet.ABox.isConsistent(ABox.java:1260)\r\n\tat org.mindswap.pellet.KnowledgeBase.consistency(KnowledgeBase.java:1987)\r\n\tat org.mindswap.pellet.KnowledgeBase.isConsistent(KnowledgeBase.java:2061)\r\n\tat pellet.PelletRealize.run(PelletRealize.java:70)\r\n\tat pellet.Pellet.run(Pellet.java:105)\r\n\tat pellet.Pellet.main(Pellet.java:59)\r\n"
     ]
    }
   ],
   "source": [
    "with onto:\n",
    "\n",
    "    class EmotionalEpisode(Thing): pass\n",
    "        # An episode is emotional if it has been rated by the user,  has been evoked by an emotion and has been commented on by the user\n",
    "\n",
    "    rule2 = Imp()\n",
    "    rule2.set_as_rule('''\n",
    "        user_rates(?user, ?rating),\n",
    "        rates_episodes(?rating, ?episode),\n",
    "        user_expresses(?user, ?emotion),\n",
    "        evokes(?emotion, ?episode),\n",
    "        user_posts_comment(?user, ?comment),\n",
    "        comments_on(?comment, ?episode)\n",
    "        -> EmotionalEpisode(?episode)\n",
    "    ''')\n",
    "\n",
    "sync_reasoner_pellet([onto], infer_property_values = True, infer_data_property_values = True, debug=True)\n",
    "\n",
    "print(f'Number of emotional episodes: {len(onto.EmotionalEpisode.instances())} : ')\n",
    "for episode in onto.EmotionalEpisode.instances():\n",
    "    print(f'Episode {episode.name} is emotional')"
   ]
  },
  {
   "cell_type": "code",
   "execution_count": null,
   "metadata": {},
   "outputs": [],
   "source": []
  }
 ],
 "metadata": {
  "kernelspec": {
   "display_name": "Python 3",
   "language": "python",
   "name": "python3"
  },
  "language_info": {
   "codemirror_mode": {
    "name": "ipython",
    "version": 3
   },
   "file_extension": ".py",
   "mimetype": "text/x-python",
   "name": "python",
   "nbconvert_exporter": "python",
   "pygments_lexer": "ipython3",
   "version": "3.11.8"
  }
 },
 "nbformat": 4,
 "nbformat_minor": 2
}
